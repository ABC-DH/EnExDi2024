{
  "nbformat": 4,
  "nbformat_minor": 0,
  "metadata": {
    "colab": {
      "provenance": []
    },
    "kernelspec": {
      "name": "python3",
      "display_name": "Python 3"
    }
  },
  "cells": [
    {
      "cell_type": "markdown",
      "metadata": {
        "id": "4zSSlTgxLAwK"
      },
      "source": [
        "##Named Entity Recognition with Spacy"
      ]
    },
    {
      "cell_type": "markdown",
      "source": [
        "https://spacy.io/\n",
        "\n",
        "Import required libraries"
      ],
      "metadata": {
        "id": "sxJEt8BCOr8c"
      }
    },
    {
      "cell_type": "code",
      "source": [
        "import spacy\n",
        "nlp = spacy.load(\"en_core_web_sm\")"
      ],
      "metadata": {
        "id": "dhOxAi9UMjJ2"
      },
      "execution_count": 1,
      "outputs": []
    },
    {
      "cell_type": "markdown",
      "metadata": {
        "id": "Al21TRcGKt6c"
      },
      "source": [
        "Define the text to annotate.  \n",
        "Let's download it from the EnExDi2024 GitHub repository."
      ]
    },
    {
      "cell_type": "code",
      "metadata": {
        "id": "RTHRlEKIo7NV"
      },
      "source": [
        "!wget https://raw.githubusercontent.com/ABC-DH/EnExDi2024/main/materials/5_Mapping/corpus/Doyle_Study_1887.txt"
      ],
      "execution_count": null,
      "outputs": []
    },
    {
      "cell_type": "markdown",
      "source": [
        "Read the downloaded text and save it to a variable"
      ],
      "metadata": {
        "id": "K2WgAfWKqM3Z"
      }
    },
    {
      "cell_type": "code",
      "source": [
        "with open('Doyle_Study_1887.txt', 'r') as file:\n",
        "    # Read all lines in the file\n",
        "    my_text = file.read()"
      ],
      "metadata": {
        "id": "rapfkOV8qRDe"
      },
      "execution_count": 3,
      "outputs": []
    },
    {
      "cell_type": "markdown",
      "metadata": {
        "id": "l6P-keVPKyFd"
      },
      "source": [
        "Process the test sentence  \n",
        "...and save the named entities as a list of tuples"
      ]
    },
    {
      "cell_type": "code",
      "metadata": {
        "id": "4pHgn8Qko7Y-"
      },
      "source": [
        "doc = nlp(my_text)\n",
        "entities =([(X.text, X.label_) for X in doc.ents])"
      ],
      "execution_count": 4,
      "outputs": []
    },
    {
      "cell_type": "markdown",
      "source": [
        "Print the named entities  \n",
        "...and save them to a .csv file"
      ],
      "metadata": {
        "id": "aiJTaInPQKY4"
      }
    },
    {
      "cell_type": "code",
      "source": [
        "import pandas as pd\n",
        "\n",
        "df = pd.DataFrame(entities)\n",
        "df.to_csv(\"entities_list.csv\", header=False)\n",
        "df.to_excel(\"entities_list.xlsx\", header=False)\n",
        "entities"
      ],
      "metadata": {
        "id": "xO0Tx7ieQMYd"
      },
      "execution_count": null,
      "outputs": []
    }
  ]
}