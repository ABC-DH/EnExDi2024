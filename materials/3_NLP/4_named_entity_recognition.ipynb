{
  "cells": [
    {
      "cell_type": "markdown",
      "source": [
        "# <center>**Named Entity Recognition : basics**</center>\n",
        "\n",
        "---\n",
        "\n"
      ],
      "metadata": {
        "id": "zJwxYc0o3bL7"
      }
    },
    {
      "cell_type": "markdown",
      "source": [
        "**Named entities** are elements that can be culturally idenfiable. They are not necessarily one unique word. For example, \"Rome\" is a named entity, but a NER tool could also associate it with the expression \"the city of seven hills\"."
      ],
      "metadata": {
        "id": "M-uCLXXOEdQu"
      }
    },
    {
      "cell_type": "markdown",
      "source": [
        "# **Named Entity Recognition with `flair`**"
      ],
      "metadata": {
        "id": "Eb-yWGquEqav"
      }
    },
    {
      "cell_type": "code",
      "execution_count": null,
      "metadata": {
        "id": "IuBkh6DvI6jU"
      },
      "outputs": [],
      "source": [
        "!pip install flair\n",
        "!pip install stanza"
      ]
    },
    {
      "cell_type": "code",
      "execution_count": null,
      "metadata": {
        "id": "4RoPC0WkIlYl"
      },
      "outputs": [],
      "source": [
        "from flair.data import Sentence\n",
        "from flair.models import SequenceTagger\n",
        "\n",
        "tagger = SequenceTagger.load(\"UGARIT/flair_grc_bert_ner\")"
      ]
    },
    {
      "cell_type": "markdown",
      "metadata": {
        "id": "t4AhQOHyLwNN"
      },
      "source": [
        "# **Test on a sentence**"
      ]
    },
    {
      "cell_type": "code",
      "execution_count": null,
      "metadata": {
        "id": "7qSXrFaRI4zg"
      },
      "outputs": [],
      "source": [
        "sentence = Sentence('ταῦτα εἴπας ὁ Ἀλέξανδρος παρίζει Πέρσῃ ἀνδρὶ ἄνδρα Μακεδόνα ὡς γυναῖκα τῷ λόγῳ · οἳ δέ , ἐπείτε σφέων οἱ Πέρσαι ψαύειν ἐπειρῶντο , διεργάζοντο αὐτούς .')\n",
        "tagger.predict(sentence)\n",
        "for entity in sentence.get_spans('ner'):\n",
        "    print(entity)"
      ]
    },
    {
      "cell_type": "markdown",
      "metadata": {
        "id": "Tv0cjjfsL69n"
      },
      "source": [
        "# **Test on a random txt**"
      ]
    },
    {
      "cell_type": "code",
      "execution_count": 4,
      "metadata": {
        "id": "51Yynv2SLuFN"
      },
      "outputs": [],
      "source": [
        "import stanza\n",
        "import numpy as np"
      ]
    },
    {
      "cell_type": "code",
      "source": [
        "!wget https://raw.githubusercontent.com/ABC-DH/EnExDi2024/main/materials/3_NLP/odyssee_integrale.txt"
      ],
      "metadata": {
        "id": "2nEFBn1Fyirc"
      },
      "execution_count": null,
      "outputs": []
    },
    {
      "cell_type": "code",
      "execution_count": null,
      "metadata": {
        "id": "6SUxGrafNOaB"
      },
      "outputs": [],
      "source": [
        "with open('/content/odyssee_integrale.txt', 'r', encoding='utf-8') as file:\n",
        "    text = file.read()"
      ]
    },
    {
      "cell_type": "code",
      "execution_count": null,
      "metadata": {
        "id": "SODqqB-pe84S"
      },
      "outputs": [],
      "source": [
        "stanza.download('grc')\n",
        "nlp = stanza.Pipeline(lang='grc', processors='tokenize,lemma')"
      ]
    },
    {
      "cell_type": "code",
      "source": [
        "window=50"
      ],
      "metadata": {
        "id": "YrZdPc4YDFDb"
      },
      "execution_count": null,
      "outputs": []
    },
    {
      "cell_type": "code",
      "execution_count": null,
      "metadata": {
        "id": "GZCMkIIJbcAv"
      },
      "outputs": [],
      "source": [
        "doc=nlp(text)\n",
        "\n",
        "from collections import defaultdict\n",
        "import numpy as np\n",
        "\n",
        "# cooccurrence matrix\n",
        "cooccurrence_dict = defaultdict(lambda: defaultdict(int))\n",
        "\n",
        "for sentence in doc.sentences:\n",
        "    sentence_text = sentence.text\n",
        "\n",
        "    # prediction with flair\n",
        "    ner_sentence = Sentence(sentence_text)\n",
        "    tagger.predict(ner_sentence)\n",
        "\n",
        "    # getting PER NERs\n",
        "    ner_entities = [(entity.text, entity.start_position, entity.end_position) for entity in ner_sentence.get_spans('ner') if entity.get_label('ner').value == 'PER']\n",
        "\n",
        "    # For each entity, get he ones that interact within an X window of words\n",
        "    for i, (entity_text_i, start_i, end_i) in enumerate(ner_entities):\n",
        "        lemma_i = ' '.join([token.lemma for token in sentence.words if entity_text_i in token.text])\n",
        "\n",
        "        for j, (entity_text_j, start_j, end_j) in enumerate(ner_entities):\n",
        "            if i != j and abs(start_i - start_j) <= window:\n",
        "                lemma_j = ' '.join([token.lemma for token in sentence.words if entity_text_j in token.text])\n",
        "                cooccurrence_dict[lemma_i][lemma_j] += 1\n",
        "\n",
        "# matrix\n",
        "entities = list(cooccurrence_dict.keys())\n",
        "matrix_size = len(entities)\n",
        "cooccurrence_matrix = np.zeros((matrix_size, matrix_size), dtype=int)\n",
        "\n",
        "for i, entity_i in enumerate(entities):\n",
        "    for j, entity_j in enumerate(entities):\n",
        "        cooccurrence_matrix[i, j] = cooccurrence_dict[entity_i][entity_j]\n",
        "\n",
        "# printing the matrix\n",
        "print(cooccurrence_matrix)\n"
      ]
    },
    {
      "cell_type": "code",
      "execution_count": null,
      "metadata": {
        "id": "tcb_vTZSbheZ"
      },
      "outputs": [],
      "source": [
        "import networkx as nx\n",
        "\n",
        "G = nx.Graph()\n",
        "\n",
        "for i, entity in enumerate(entities):\n",
        "    G.add_node(i, label=entity)\n",
        "\n",
        "for i, row in enumerate(cooccurrence_matrix):\n",
        "    for j, weight in enumerate(row):\n",
        "        if weight > 0 and i != j:\n",
        "            G.add_edge(i, j, weight=weight)\n",
        "\n",
        "# export for gephi\n",
        "nx.write_gexf(G, \"network_direct.gexf\")"
      ]
    },
    {
      "cell_type": "markdown",
      "source": [
        "## If you want more NERs (including MISC, for example)"
      ],
      "metadata": {
        "id": "wEYNL6XEkov0"
      }
    },
    {
      "cell_type": "code",
      "execution_count": null,
      "metadata": {
        "id": "7qzJLy06cq1u"
      },
      "outputs": [],
      "source": [
        "cooccurrence_dict = defaultdict(lambda: defaultdict(int))\n",
        "\n",
        "for sentence in doc.sentences:\n",
        "    sentence_text = sentence.text\n",
        "\n",
        "    # prediction with flair\n",
        "    ner_sentence = Sentence(sentence_text)\n",
        "    tagger.predict(ner_sentence)\n",
        "\n",
        "    # PER and MISC extraction\n",
        "    ner_entities = [(entity.text, entity.start_position, entity.end_position) for entity in ner_sentence.get_spans('ner') if entity.get_label('ner').value in ['PER', 'MISC']]\n",
        "\n",
        "    # For each entity, get he ones that interact within an X window of words\n",
        "    for i, (entity_text_i, start_i, end_i) in enumerate(ner_entities):\n",
        "        lemma_i = ' '.join([token.lemma for token in sentence.words if entity_text_i in token.text])\n",
        "\n",
        "        for j, (entity_text_j, start_j, end_j) in enumerate(ner_entities):\n",
        "            if i != j and abs(start_i - start_j) <= window:\n",
        "                lemma_j = ' '.join([token.lemma for token in sentence.words if entity_text_j in token.text])\n",
        "                cooccurrence_dict[lemma_i][lemma_j] += 1\n",
        "\n",
        "# matrix conversion\n",
        "entities = list(cooccurrence_dict.keys())\n",
        "matrix_size = len(entities)\n",
        "cooccurrence_matrix = np.zeros((matrix_size, matrix_size), dtype=int)\n",
        "\n",
        "for i, entity_i in enumerate(entities):\n",
        "    for j, entity_j in enumerate(entities):\n",
        "        cooccurrence_matrix[i, j] = cooccurrence_dict[entity_i][entity_j]\n",
        "\n",
        "# printing the matrix\n",
        "print(cooccurrence_matrix)"
      ]
    },
    {
      "cell_type": "markdown",
      "source": [
        "# **Named Entity Recognition with `stanza`**"
      ],
      "metadata": {
        "id": "00ZpCUdQEQ5r"
      }
    },
    {
      "cell_type": "markdown",
      "source": [
        "Let's try with `stanza` and redefine the Pipeline, using the ner process."
      ],
      "metadata": {
        "id": "xRt3tcVQE7dk"
      }
    },
    {
      "cell_type": "code",
      "source": [
        "stanza_ner = stanza.Pipeline(lang='fr', processors='tokenize,ner')"
      ],
      "metadata": {
        "id": "okgT6JAcEYgb"
      },
      "execution_count": null,
      "outputs": []
    },
    {
      "cell_type": "markdown",
      "source": [
        "Let's make a test on the _Misérables_."
      ],
      "metadata": {
        "id": "aVfa_nT8FW95"
      }
    },
    {
      "cell_type": "code",
      "source": [
        "!wget https://raw.githubusercontent.com/ABC-DH/EnExDi2024/main/materials/3_NLP/miserables.txt"
      ],
      "metadata": {
        "id": "QOYyVjKtFGoQ"
      },
      "execution_count": null,
      "outputs": []
    },
    {
      "cell_type": "code",
      "source": [
        "!wget https://raw.githubusercontent.com/ABC-DH/EnExDi2024/main/materials/3_NLP/stopwords_fr.txt"
      ],
      "metadata": {
        "id": "gYAWwHyj1P2s"
      },
      "execution_count": null,
      "outputs": []
    },
    {
      "cell_type": "code",
      "source": [
        "stops = open(\"/content/stopwords_fr.txt\", encoding=\"utf-8\").read().split(\"\\n\")"
      ],
      "metadata": {
        "id": "ru3D1TRa1Vnm"
      },
      "execution_count": 14,
      "outputs": []
    },
    {
      "cell_type": "code",
      "source": [
        "filepath_of_text = \"/content/miserables.txt\""
      ],
      "metadata": {
        "id": "lgsi1sGUFKuu"
      },
      "execution_count": 7,
      "outputs": []
    },
    {
      "cell_type": "code",
      "source": [
        "full_text = open(filepath_of_text, encoding=\"utf-8\").read()"
      ],
      "metadata": {
        "id": "uYYzqEotFLaH"
      },
      "execution_count": 8,
      "outputs": []
    },
    {
      "cell_type": "markdown",
      "source": [
        "This part may take some time (and you may need a large GPU), as we're running it on the whole of the _Misérables_, which is pretty long. (default here : roughly 4 minutes)"
      ],
      "metadata": {
        "id": "JkPTpSl5zm7p"
      }
    },
    {
      "cell_type": "code",
      "source": [
        "ents_stanza = stanza_ner(full_text)"
      ],
      "metadata": {
        "id": "uWS8AQcuFVFJ"
      },
      "execution_count": 9,
      "outputs": []
    },
    {
      "cell_type": "code",
      "source": [
        "print(*[f'entity: {ent.text}\\ttype: {ent.type}' for ent in ents_stanza.ents[:100]], sep='\\n')"
      ],
      "metadata": {
        "id": "7g3qqWrrFf60"
      },
      "execution_count": null,
      "outputs": []
    },
    {
      "cell_type": "code",
      "source": [
        "from collections import Counter\n",
        "\n",
        "per_counter = Counter()\n",
        "loc_counter = Counter()\n",
        "\n",
        "for sentence in ents_stanza.sentences:\n",
        "    for ent in sentence.ents:\n",
        "        ent_text_lower = ent.text.lower()\n",
        "        if ent_text_lower not in stops:\n",
        "            if ent.type == 'PER':\n",
        "                per_counter[ent.text] += 1\n",
        "            elif ent.type == 'LOC':\n",
        "                loc_counter[ent.text] += 1\n",
        "\n",
        "most_common_per = per_counter.most_common()\n",
        "print(\"Most frequent PER entities :\")\n",
        "for ent, freq in most_common_per[:10]:\n",
        "    print(f\"{ent}: {freq}\")\n",
        "\n",
        "most_common_loc = loc_counter.most_common()\n",
        "print(\"\\nMost frequent LOC entities :\")\n",
        "for ent, freq in most_common_loc[:10]:\n",
        "    print(f\"{ent}: {freq}\")"
      ],
      "metadata": {
        "id": "5uT3CAXD0p4D"
      },
      "execution_count": null,
      "outputs": []
    },
    {
      "cell_type": "code",
      "source": [],
      "metadata": {
        "id": "FDL84N3w03pR"
      },
      "execution_count": null,
      "outputs": []
    }
  ],
  "metadata": {
    "accelerator": "GPU",
    "colab": {
      "gpuType": "T4",
      "provenance": []
    },
    "kernelspec": {
      "display_name": "Python 3",
      "name": "python3"
    },
    "language_info": {
      "name": "python"
    }
  },
  "nbformat": 4,
  "nbformat_minor": 0
}