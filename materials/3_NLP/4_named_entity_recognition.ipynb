{
  "cells": [
    {
      "cell_type": "markdown",
      "source": [
        "# **Named Entity Recognition (for Greek here but...)**"
      ],
      "metadata": {
        "id": "zJwxYc0o3bL7"
      }
    },
    {
      "cell_type": "code",
      "execution_count": null,
      "metadata": {
        "id": "IuBkh6DvI6jU"
      },
      "outputs": [],
      "source": [
        "!pip install flair\n",
        "!pip install stanza"
      ]
    },
    {
      "cell_type": "code",
      "execution_count": null,
      "metadata": {
        "id": "4RoPC0WkIlYl"
      },
      "outputs": [],
      "source": [
        "from flair.data import Sentence\n",
        "from flair.models import SequenceTagger\n",
        "\n",
        "tagger = SequenceTagger.load(\"UGARIT/flair_grc_bert_ner\")"
      ]
    },
    {
      "cell_type": "markdown",
      "metadata": {
        "id": "t4AhQOHyLwNN"
      },
      "source": [
        "# **Test sur une phrase**"
      ]
    },
    {
      "cell_type": "code",
      "execution_count": null,
      "metadata": {
        "id": "7qSXrFaRI4zg",
        "colab": {
          "base_uri": "https://localhost:8080/"
        },
        "outputId": "25b4a43a-3841-4afe-d3d8-179a188176c2"
      },
      "outputs": [
        {
          "output_type": "stream",
          "name": "stdout",
          "text": [
            "Span[3:4]: \"Ἀλέξανδρος\" → PER (0.9974)\n",
            "Span[5:6]: \"Πέρσῃ\" → MISC (0.9951)\n",
            "Span[8:9]: \"Μακεδόνα\" → MISC (0.9954)\n",
            "Span[20:21]: \"Πέρσαι\" → MISC (0.9944)\n"
          ]
        }
      ],
      "source": [
        "sentence = Sentence('ταῦτα εἴπας ὁ Ἀλέξανδρος παρίζει Πέρσῃ ἀνδρὶ ἄνδρα Μακεδόνα ὡς γυναῖκα τῷ λόγῳ · οἳ δέ , ἐπείτε σφέων οἱ Πέρσαι ψαύειν ἐπειρῶντο , διεργάζοντο αὐτούς .')\n",
        "tagger.predict(sentence)\n",
        "for entity in sentence.get_spans('ner'):\n",
        "    print(entity)"
      ]
    },
    {
      "cell_type": "markdown",
      "metadata": {
        "id": "Tv0cjjfsL69n"
      },
      "source": [
        "# **Test sur un TXT**"
      ]
    },
    {
      "cell_type": "code",
      "execution_count": null,
      "metadata": {
        "id": "51Yynv2SLuFN"
      },
      "outputs": [],
      "source": [
        "import stanza\n",
        "import numpy as np\n",
        "from tqdm import tqdm"
      ]
    },
    {
      "cell_type": "code",
      "execution_count": null,
      "metadata": {
        "id": "6SUxGrafNOaB"
      },
      "outputs": [],
      "source": [
        "with open('/content/odyssee_integrale.txt', 'r', encoding='utf-8') as file:\n",
        "    text = file.read()"
      ]
    },
    {
      "cell_type": "code",
      "execution_count": null,
      "metadata": {
        "id": "SODqqB-pe84S"
      },
      "outputs": [],
      "source": [
        "stanza.download('grc')\n",
        "nlp = stanza.Pipeline(lang='grc', processors='tokenize,lemma')"
      ]
    },
    {
      "cell_type": "code",
      "execution_count": null,
      "metadata": {
        "id": "GZCMkIIJbcAv"
      },
      "outputs": [],
      "source": [
        "doc=nlp(text)\n",
        "\n",
        "from collections import defaultdict\n",
        "import numpy as np\n",
        "\n",
        "# Initialisation du dictionnaire pour la matrice de cooccurrence\n",
        "cooccurrence_dict = defaultdict(lambda: defaultdict(int))\n",
        "\n",
        "for sentence in doc.sentences:\n",
        "    sentence_text = sentence.text\n",
        "\n",
        "    # Prédiction NER avec Flair\n",
        "    ner_sentence = Sentence(sentence_text)\n",
        "    tagger.predict(ner_sentence)\n",
        "\n",
        "    # Extraction des entités NER de type PER\n",
        "    ner_entities = [(entity.text, entity.start_position, entity.end_position) for entity in ner_sentence.get_spans('ner') if entity.get_label('ner').value == 'PER']\n",
        "\n",
        "    # Pour chaque entité NER PER, trouver les cooccurrences dans la fenêtre de 20 mots\n",
        "    for i, (entity_text_i, start_i, end_i) in enumerate(ner_entities):\n",
        "        lemma_i = ' '.join([token.lemma for token in sentence.words if entity_text_i in token.text])\n",
        "\n",
        "        for j, (entity_text_j, start_j, end_j) in enumerate(ner_entities):\n",
        "            if i != j and abs(start_i - start_j) <= 20:\n",
        "                lemma_j = ' '.join([token.lemma for token in sentence.words if entity_text_j in token.text])\n",
        "                cooccurrence_dict[lemma_i][lemma_j] += 1\n",
        "\n",
        "# Conversion du dictionnaire en matrice\n",
        "entities = list(cooccurrence_dict.keys())\n",
        "matrix_size = len(entities)\n",
        "cooccurrence_matrix = np.zeros((matrix_size, matrix_size), dtype=int)\n",
        "\n",
        "for i, entity_i in enumerate(entities):\n",
        "    for j, entity_j in enumerate(entities):\n",
        "        cooccurrence_matrix[i, j] = cooccurrence_dict[entity_i][entity_j]\n",
        "\n",
        "# Affichage de la matrice\n",
        "print(cooccurrence_matrix)\n"
      ]
    },
    {
      "cell_type": "code",
      "execution_count": null,
      "metadata": {
        "id": "tcb_vTZSbheZ"
      },
      "outputs": [],
      "source": [
        "import networkx as nx\n",
        "\n",
        "G = nx.Graph()\n",
        "\n",
        "# Ajout des nœuds\n",
        "for i, entity in enumerate(entities):\n",
        "    G.add_node(i, label=entity)\n",
        "\n",
        "# Ajout des arêtes\n",
        "for i, row in enumerate(cooccurrence_matrix):\n",
        "    for j, weight in enumerate(row):\n",
        "        if weight > 0 and i != j:\n",
        "            G.add_edge(i, j, weight=weight)\n",
        "\n",
        "# Exportation en GEXF\n",
        "nx.write_gexf(G, \"network_direct.gexf\")"
      ]
    },
    {
      "cell_type": "markdown",
      "source": [
        "## Si vous voulez être plus tolérants sur les NER, et inclure les incertitudes (MISC)"
      ],
      "metadata": {
        "id": "wEYNL6XEkov0"
      }
    },
    {
      "cell_type": "code",
      "execution_count": null,
      "metadata": {
        "id": "7qzJLy06cq1u"
      },
      "outputs": [],
      "source": [
        "cooccurrence_dict = defaultdict(lambda: defaultdict(int))\n",
        "\n",
        "for sentence in doc.sentences:\n",
        "    sentence_text = sentence.text\n",
        "\n",
        "    # Prédiction NER avec Flair\n",
        "    ner_sentence = Sentence(sentence_text)\n",
        "    tagger.predict(ner_sentence)\n",
        "\n",
        "    # Extraction des entités NER de type PER et MISC\n",
        "    ner_entities = [(entity.text, entity.start_position, entity.end_position) for entity in ner_sentence.get_spans('ner') if entity.get_label('ner').value in ['PER', 'MISC']]\n",
        "\n",
        "    # Pour chaque entité NER (PER et MISC), trouver les cooccurrences dans la fenêtre de 20 mots\n",
        "    for i, (entity_text_i, start_i, end_i) in enumerate(ner_entities):\n",
        "        lemma_i = ' '.join([token.lemma for token in sentence.words if entity_text_i in token.text])\n",
        "\n",
        "        for j, (entity_text_j, start_j, end_j) in enumerate(ner_entities):\n",
        "            if i != j and abs(start_i - start_j) <= 20:\n",
        "                lemma_j = ' '.join([token.lemma for token in sentence.words if entity_text_j in token.text])\n",
        "                cooccurrence_dict[lemma_i][lemma_j] += 1\n",
        "\n",
        "# Conversion du dictionnaire en matrice\n",
        "entities = list(cooccurrence_dict.keys())\n",
        "matrix_size = len(entities)\n",
        "cooccurrence_matrix = np.zeros((matrix_size, matrix_size), dtype=int)\n",
        "\n",
        "for i, entity_i in enumerate(entities):\n",
        "    for j, entity_j in enumerate(entities):\n",
        "        cooccurrence_matrix[i, j] = cooccurrence_dict[entity_i][entity_j]\n",
        "\n",
        "# Affichage de la matrice\n",
        "print(cooccurrence_matrix)"
      ]
    }
  ],
  "metadata": {
    "accelerator": "GPU",
    "colab": {
      "gpuType": "T4",
      "provenance": []
    },
    "kernelspec": {
      "display_name": "Python 3",
      "name": "python3"
    },
    "language_info": {
      "name": "python"
    }
  },
  "nbformat": 4,
  "nbformat_minor": 0
}