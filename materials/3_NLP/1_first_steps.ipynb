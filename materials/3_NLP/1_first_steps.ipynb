{
  "nbformat": 4,
  "nbformat_minor": 0,
  "metadata": {
    "colab": {
      "provenance": []
    },
    "kernelspec": {
      "name": "python3",
      "display_name": "Python 3"
    },
    "language_info": {
      "name": "python"
    }
  },
  "cells": [
    {
      "cell_type": "markdown",
      "source": [
        "#**Programming in python**\n",
        "\n",
        "---\n",
        "\n"
      ],
      "metadata": {
        "id": "I4KAmYwG6Vvk"
      }
    },
    {
      "cell_type": "markdown",
      "source": [
        "##Variables"
      ],
      "metadata": {
        "id": "0yVxDD3LKtxh"
      }
    },
    {
      "cell_type": "markdown",
      "source": [
        "![variables](https://mw.home.amu.edu.pl/zajecia/PPR2017/var.gif \"variables\")\n"
      ],
      "metadata": {
        "id": "-aIicB8QLpQT"
      }
    },
    {
      "cell_type": "markdown",
      "source": [
        "##Variable types\n",
        "Some textual variable like <font color='red'>\"miserables.txt\"</font> will appear in red with quotes, while others will appear in green, like <font color='green'>40</font>, without quotes. That's because they encapsulate different kinds of data."
      ],
      "metadata": {
        "id": "gvvRCqlMVq0C"
      }
    },
    {
      "cell_type": "markdown",
      "source": [
        "| Data Type       | Explanation          | Example  |\n",
        "| ------------- |:-------------:| -----:|\n",
        "| String     | Text | ```\"lemonade\"``` |\n",
        "| Integer     | Whole Numbers      |   <font color='green'>```40```</font> |\n",
        "| Float | Decimal Numbers      |   <font color='green'>```40.2```</font> |\n",
        "| Boolean | True/False     |   <font color='green'>**```False```**</font> |"
      ],
      "metadata": {
        "id": "cT4IbDrcXC7B"
      }
    },
    {
      "cell_type": "markdown",
      "source": [
        "We can check easily."
      ],
      "metadata": {
        "id": "VV1nMpWYYD0z"
      }
    },
    {
      "cell_type": "code",
      "source": [
        "type(\"lemonade\")"
      ],
      "metadata": {
        "id": "Mhg8CrVdYH6D"
      },
      "execution_count": null,
      "outputs": []
    },
    {
      "cell_type": "code",
      "source": [
        "type(40)"
      ],
      "metadata": {
        "id": "QA0AkBL2YTRQ"
      },
      "execution_count": null,
      "outputs": []
    },
    {
      "cell_type": "markdown",
      "source": [
        "##Indentation in Python"
      ],
      "metadata": {
        "id": "jaQ-utDc35tV"
      }
    },
    {
      "cell_type": "markdown",
      "source": [
        "<img src='https://drive.google.com/uc?export=view&id=1_7lZJ4qI5K9Ha0B_nRjt6qw4klt7opYg' width=\"1000\">"
      ],
      "metadata": {
        "id": "AKKaPNRH39zP"
      }
    },
    {
      "cell_type": "markdown",
      "source": [
        "##Functions\n",
        "We are going to use textual objects, and try and do several things with them, such as lemmatizing and postagging.\n",
        "To do so, we'll use functions, to act repeatedly on those objects."
      ],
      "metadata": {
        "id": "a9aLQQCpNlP3"
      }
    },
    {
      "cell_type": "code",
      "source": [
        "def split_into_words(any_chunk_of_text):\n",
        "    words = re.split(\"\\W+\", any_chunk_of_text.lower())\n",
        "    return words"
      ],
      "metadata": {
        "id": "MCsRdtIHKy_J"
      },
      "execution_count": null,
      "outputs": []
    },
    {
      "cell_type": "code",
      "source": [
        "split_into_words(\"hello I'm a test\")"
      ],
      "metadata": {
        "id": "t-_vwLNQMFMr"
      },
      "execution_count": null,
      "outputs": []
    },
    {
      "cell_type": "markdown",
      "source": [
        "<img src='https://drive.google.com/uc?export=view&id=1IN-omiNV2tUXftyqaTBNO8aF-dMQPHiF' width=\"1000\">"
      ],
      "metadata": {
        "id": "n38OqIOtv-5d"
      }
    },
    {
      "cell_type": "markdown",
      "source": [
        "<img src='https://drive.google.com/uc?export=view&id=1hKB-GHN95o0E0CLDrBl75CQ2UlTObsJz' width=\"1000\">"
      ],
      "metadata": {
        "id": "Oy67qTtMwQEy"
      }
    },
    {
      "cell_type": "markdown",
      "source": [
        "##Loops"
      ],
      "metadata": {
        "id": "gIo2Y0SNwju_"
      }
    },
    {
      "cell_type": "markdown",
      "source": [
        "You may not want to re-write everything each time you perform an action on your data (eg. lemmatize the entire sentence, you may not want to call lemmatize() on each word). So, we'll need loops, that can repeat these actions with conditions. Eg, if you've got a list of words to lemmatize, you'll say \"ok, as long as you have words in your sentence, lemmatize\"."
      ],
      "metadata": {
        "id": "mJI3gGOhxATl"
      }
    },
    {
      "cell_type": "markdown",
      "source": [
        "<img src='https://drive.google.com/uc?export=view&id=1XKcA0ffSy3i6A0S5jWI7LPz7-PbZ1T88' width=\"1000\">"
      ],
      "metadata": {
        "id": "oIlA3y6fxqdu"
      }
    },
    {
      "cell_type": "markdown",
      "source": [
        "<img src='https://drive.google.com/uc?export=view&id=1yf_wPus-G__l4rjeY5I4vzc3rtdU31JC' width=\"1000\">"
      ],
      "metadata": {
        "id": "_IBs1hzMyMrH"
      }
    },
    {
      "cell_type": "markdown",
      "source": [
        "##Conditions"
      ],
      "metadata": {
        "id": "woYTd6ZHzENp"
      }
    },
    {
      "cell_type": "markdown",
      "source": [
        "That's where you say \"do such an action if you are in this state\".\n",
        "<br>Basic structure is as follows :\n",
        "\n",
        "<br>**`if`** `some_first_condition :`\n",
        "<br>&nbsp;&nbsp;&nbsp;&nbsp;&nbsp;&nbsp;`do_something()`\n",
        "<br>**`elif`** `some_second_condtion :`\n",
        "<br>&nbsp;&nbsp;&nbsp;&nbsp;&nbsp;&nbsp;`do_something_else()`\n",
        "<br>**`else`** `:`\n",
        "<br>&nbsp;&nbsp;&nbsp;&nbsp;&nbsp;&nbsp;`do_a_third_thing()`"
      ],
      "metadata": {
        "id": "9ghQrHrazGlV"
      }
    },
    {
      "cell_type": "markdown",
      "source": [
        "<img src='https://drive.google.com/uc?export=view&id=1VYhnaiNah0xsn1We5XR1LeoXnj2SKOJh' width=\"1000\">"
      ],
      "metadata": {
        "id": "APPclu803XlV"
      }
    },
    {
      "cell_type": "markdown",
      "source": [
        "##Libraries\n",
        "A lot of functions have already been written by others and can be imported directly in your python code. You can install them easily in your virtual environment doing so :\n",
        "<br>`pip install yourLib`\n",
        "<br>Once it is installed, you can just call your lib using `import` (you can also be more specific and not import the whole lib using `from`for a specific library)."
      ],
      "metadata": {
        "id": "w-O2tZ2XOC8x"
      }
    },
    {
      "cell_type": "code",
      "source": [
        "import re\n",
        "from collections import Counter"
      ],
      "metadata": {
        "id": "xodiXwI2N6NG"
      },
      "execution_count": null,
      "outputs": []
    },
    {
      "cell_type": "markdown",
      "source": [
        "In the following cell, we'll import a .txt document to use it for basic operations, using the gdown module, as the text is stored on a google drive."
      ],
      "metadata": {
        "id": "PN0QL5-2OMzD"
      }
    },
    {
      "cell_type": "code",
      "source": [
        "!gdown --id 1GEgd5cQoJkTm5PRWfixxOKHe3uOlxFqo"
      ],
      "metadata": {
        "id": "cUfXFR7NaceQ"
      },
      "execution_count": null,
      "outputs": []
    },
    {
      "cell_type": "code",
      "source": [
        "filepath_of_text = \"/content/miserables.txt\"\n",
        "number_of_desired_words = 40"
      ],
      "metadata": {
        "id": "kL087d_AOSzZ"
      },
      "execution_count": null,
      "outputs": []
    },
    {
      "cell_type": "markdown",
      "source": [
        "This is a basic function to call a file from a specific directory, and read it to encapsulate it in a variable (here `full_text`)."
      ],
      "metadata": {
        "id": "kM4xlQF2Pve6"
      }
    },
    {
      "cell_type": "code",
      "source": [
        "full_text = open(filepath_of_text, encoding=\"utf-8\").read()"
      ],
      "metadata": {
        "id": "QpGGAvpFPqiN"
      },
      "execution_count": null,
      "outputs": []
    },
    {
      "cell_type": "markdown",
      "source": [
        "Now, let's use the previous function we created (`split_into_words`) to basically split the data within this variable."
      ],
      "metadata": {
        "id": "gw-gYHfrSSYh"
      }
    },
    {
      "cell_type": "code",
      "source": [
        "all_the_words = split_into_words(full_text)"
      ],
      "metadata": {
        "id": "rtip4PHxPw0-"
      },
      "execution_count": null,
      "outputs": []
    },
    {
      "cell_type": "markdown",
      "source": [
        "You'll get a list of words. You can check part of the resulting list by indices."
      ],
      "metadata": {
        "id": "WJP5I9tUPKAE"
      }
    },
    {
      "cell_type": "code",
      "source": [
        "all_the_words[50:60]"
      ],
      "metadata": {
        "id": "m8o9b1n6Sce8"
      },
      "execution_count": null,
      "outputs": []
    },
    {
      "cell_type": "markdown",
      "source": [
        "#Some useful tips for strings\n",
        "These are the basic functions you can use to manipulate string variables."
      ],
      "metadata": {
        "id": "pjbrvmsIYrcE"
      }
    },
    {
      "cell_type": "code",
      "source": [
        "first_line = full_text[88:155]\n",
        "print(first_line)"
      ],
      "metadata": {
        "id": "EvpU8o2sZA4a"
      },
      "execution_count": null,
      "outputs": []
    },
    {
      "cell_type": "markdown",
      "source": [
        "| **String Method** | **Explanation**                                                                                   |\n",
        "|:-------------:|:---------------------------------------------------------------------------------------------------:|\n",
        "| `string.lower()`         | makes the string lowercase                                                                                |\n",
        "| `string.upper()`         | makes the string uppercase  \n",
        "| `string.title()`         | makes the string titlecase\n",
        "| `string.strip()`         | removes lead and trailing white spaces     |\n",
        "| `string.replace('old string', 'new string')`      | replaces `old string` with `new string`          |\n",
        "| `string.split('delim')`          | returns a list of substrings separated by the given delimiter |\n",
        "| `string.join(list)`         | opposite of split(), joins the elements in the given list together using the string                                                                        |\n",
        "| `string.startswith('some string')`       | tests whether string begins with `some string` |                                                       |\n",
        "| `string.endswith('some string')`       |  tests whether string ends with `some string`   |\n",
        "| `string.isspace()`       |  tests whether string is a space |\n",
        "| `string.replace('old string', 'new string')`      | replaces `old string` with `new string`          |\n",
        "\n",
        "                                                            "
      ],
      "metadata": {
        "id": "LfCPzuAEaKji"
      }
    },
    {
      "cell_type": "markdown",
      "source": [
        "So :"
      ],
      "metadata": {
        "id": "GFV1eW01aggH"
      }
    },
    {
      "cell_type": "code",
      "source": [
        "print(first_line.replace(\"était\", \"est\"))\n",
        "print(first_line.lower())\n",
        "print(first_line.upper())\n",
        "print(first_line.title())"
      ],
      "metadata": {
        "id": "LrMw2B-Oai9H"
      },
      "execution_count": null,
      "outputs": []
    },
    {
      "cell_type": "markdown",
      "source": [
        "You can also split on specific strings, such as `\\s`"
      ],
      "metadata": {
        "id": "l6-MC_0wbHQX"
      }
    },
    {
      "cell_type": "markdown",
      "source": [
        "| **String Method** | **Explanation**                                                                                   |\n",
        "|:-------------:|:---------------------------------------------------------------------------------------------------:|\n",
        "| `string.split('delim')`          | returns a list of substrings separated by the given delimiter |                                                       "
      ],
      "metadata": {
        "id": "Okgz2Cp2bW0R"
      }
    },
    {
      "cell_type": "code",
      "source": [
        "first_line.split(\" \")"
      ],
      "metadata": {
        "id": "SqO3f58gbZsk"
      },
      "execution_count": null,
      "outputs": []
    },
    {
      "cell_type": "markdown",
      "source": [
        "##Import data from other modules\n",
        "Sometimes, some libs provide useful lists of strings that you can reload and use. One of the most well known libs in this regard is `nltk` (for stopwords for example)."
      ],
      "metadata": {
        "id": "jGUc_uP5b0A2"
      }
    },
    {
      "cell_type": "code",
      "source": [
        "import nltk\n",
        "nltk.download('stopwords')\n",
        "from nltk.corpus import stopwords\n",
        "french_stopwords = set(stopwords.words('french'))"
      ],
      "metadata": {
        "id": "2N0VIz8rSovn"
      },
      "execution_count": null,
      "outputs": []
    },
    {
      "cell_type": "markdown",
      "source": [
        "Here we're going to use nltk French stopwords to filter our previous variable `all_the_words`."
      ],
      "metadata": {
        "id": "hhptWkoiQRZb"
      }
    },
    {
      "cell_type": "code",
      "source": [
        "meaningful_words = [word for word in all_the_words if word not in french_stopwords]"
      ],
      "metadata": {
        "id": "pDeoMttaThMo"
      },
      "execution_count": null,
      "outputs": []
    },
    {
      "cell_type": "code",
      "source": [
        "meaningful_words[50:60]"
      ],
      "metadata": {
        "id": "4kxQNYk4USjX"
      },
      "execution_count": null,
      "outputs": []
    },
    {
      "cell_type": "markdown",
      "source": [
        "You can also count the words pretty easily and index them according to their frequency."
      ],
      "metadata": {
        "id": "AWhWRG-sU_Qh"
      }
    },
    {
      "cell_type": "code",
      "source": [
        "meaningful_words_tally = Counter(meaningful_words)"
      ],
      "metadata": {
        "id": "XUC-HaP3Ue4P"
      },
      "execution_count": null,
      "outputs": []
    },
    {
      "cell_type": "markdown",
      "source": [
        "You may not want to see all the words, and ask for a specific number of words, using the `number_of_desired_words` variable."
      ],
      "metadata": {
        "id": "xmGzxGLDVGgD"
      }
    },
    {
      "cell_type": "code",
      "source": [
        "most_frequent_meaningful_words = meaningful_words_tally.most_common(number_of_desired_words)"
      ],
      "metadata": {
        "id": "kC3RQy3JUnd2"
      },
      "execution_count": null,
      "outputs": []
    },
    {
      "cell_type": "code",
      "source": [
        "most_frequent_meaningful_words"
      ],
      "metadata": {
        "id": "nXicGIplUrMp"
      },
      "execution_count": null,
      "outputs": []
    }
  ]
}