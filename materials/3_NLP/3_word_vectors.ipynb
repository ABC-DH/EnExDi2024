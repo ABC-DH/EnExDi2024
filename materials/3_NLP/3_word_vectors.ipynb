{
  "cells": [
    {
      "cell_type": "markdown",
      "metadata": {
        "id": "XUKJJyV4EKwh"
      },
      "source": [
        "# <center>**Word Vectors**</center>\n",
        "\n",
        "---\n",
        "\n"
      ]
    },
    {
      "cell_type": "markdown",
      "source": [
        "##**Definition**"
      ],
      "metadata": {
        "id": "lrfpDSkzzK6O"
      }
    },
    {
      "cell_type": "markdown",
      "source": [
        "You can try and imagine language as a cloud, with scattered points, where each point is a different word. The location of each point is dependent on the location of every other point in the cloud (eg. if two words share the same context, they should appear near one to another). As long as you can represent a point in space, it gets a computational representation : it becomes a vector in space, a direction. And it becomes possible to compute things from it."
      ],
      "metadata": {
        "id": "RPF5Vq2VzQUy"
      }
    },
    {
      "cell_type": "code",
      "source": [
        "from IPython.display import YouTubeVideo\n",
        "YouTubeVideo(\"ORstNrlG_2g\", width=512, height=288)"
      ],
      "metadata": {
        "colab": {
          "base_uri": "https://localhost:8080/",
          "height": 310
        },
        "id": "fMH5QvWSzXjL",
        "outputId": "f90ee17a-4543-4d30-b30f-3434d9949c65"
      },
      "execution_count": 1,
      "outputs": [
        {
          "output_type": "execute_result",
          "data": {
            "text/plain": [
              "<IPython.lib.display.YouTubeVideo at 0x78aa3cb14fa0>"
            ],
            "text/html": [
              "\n",
              "        <iframe\n",
              "            width=\"512\"\n",
              "            height=\"288\"\n",
              "            src=\"https://www.youtube.com/embed/ORstNrlG_2g\"\n",
              "            frameborder=\"0\"\n",
              "            allowfullscreen\n",
              "            \n",
              "        ></iframe>\n",
              "        "
            ],
            "image/jpeg": "[encoded data removed]"
          },
          "metadata": {},
          "execution_count": 1
        }
      ]
    },
    {
      "cell_type": "markdown",
      "source": [
        "![](https://drive.google.com/uc?export=view&id=1FsTcOQ5LVgbDqkT5nm_gve5gZfQrZ8pV)"
      ],
      "metadata": {
        "id": "kkeuuYTFze23"
      }
    },
    {
      "cell_type": "code",
      "execution_count": 1,
      "metadata": {
        "id": "btSJGNjQEKwj"
      },
      "outputs": [],
      "source": [
        "import os\n",
        "import gensim\n",
        "from gensim.models import Word2Vec\n",
        "import glob\n",
        "import nltk\n",
        "\n",
        "from lxml import etree as ET\n",
        "import lxml.html\n",
        "import string\n",
        "import numpy as np\n",
        "import matplotlib.pyplot as plt\n",
        "import pandas as pd"
      ]
    },
    {
      "cell_type": "code",
      "source": [
        "!wget https://raw.githubusercontent.com/ABC-DH/EnExDi2024/main/materials/3_NLP/auteurs.zip"
      ],
      "metadata": {
        "id": "s8-gi9VwSMEu"
      },
      "execution_count": null,
      "outputs": []
    },
    {
      "cell_type": "code",
      "source": [
        "!unzip \"/content/auteurs.zip\""
      ],
      "metadata": {
        "id": "k3JLxuWlS_jx"
      },
      "execution_count": null,
      "outputs": []
    },
    {
      "cell_type": "code",
      "execution_count": 4,
      "metadata": {
        "id": "Gt2CYBKmEKwl"
      },
      "outputs": [],
      "source": [
        "dumas=\"auteurs/flaubert/\"\n",
        "balzac=\"auteurs/balzac/\""
      ]
    },
    {
      "cell_type": "code",
      "execution_count": 5,
      "metadata": {
        "id": "LG-aW6vOEKwp"
      },
      "outputs": [],
      "source": [
        "def strip_ns_prefix(tree):\n",
        "    query = \"descendant-or-self::*[namespace-uri()!='']\"\n",
        "    for element in tree.xpath(query):\n",
        "        element.tag = ET.QName(element).localname\n",
        "    return tree"
      ]
    },
    {
      "cell_type": "code",
      "execution_count": null,
      "metadata": {
        "id": "q4tLGaUjEKwp"
      },
      "outputs": [],
      "source": [
        "if balzac != \"\":\n",
        "    files = glob.iglob(balzac + '/**/*.xml', recursive=True)\n",
        "    sentences = []\n",
        "\n",
        "    for filename in files:\n",
        "        print(filename)\n",
        "        parser = ET.XMLParser(remove_blank_text=True, resolve_entities=False, encoding='utf8')\n",
        "        tree = strip_ns_prefix(ET.parse(filename, parser))\n",
        "\n",
        "        words = tree.xpath(\".//wf/@lemma\")\n",
        "\n",
        "        sentence = []\n",
        "        for word in words:\n",
        "            if word != \".\":\n",
        "                sentence.append(word)\n",
        "            else:\n",
        "                sentences.append(sentence + [word])\n",
        "                sentence = []"
      ]
    },
    {
      "cell_type": "code",
      "execution_count": null,
      "metadata": {
        "id": "CWKGOPhgEKwq"
      },
      "outputs": [],
      "source": [
        "print(len(sentences))\n",
        "print(sentences[5])"
      ]
    },
    {
      "cell_type": "markdown",
      "metadata": {
        "id": "W8Xl4zaIEKwr"
      },
      "source": [
        "## Building a model"
      ]
    },
    {
      "cell_type": "markdown",
      "source": [
        "This part, depending on the amount of data you intend to compute, may take some time (default : 8 minutes)"
      ],
      "metadata": {
        "id": "XLU6gj_Afxmk"
      }
    },
    {
      "cell_type": "code",
      "execution_count": 8,
      "metadata": {
        "id": "RatPiNJ2EKws"
      },
      "outputs": [],
      "source": [
        "model = Word2Vec(sentences, min_count=2, max_vocab_size=10000, negative=10, epochs=200)"
      ]
    },
    {
      "cell_type": "code",
      "execution_count": 9,
      "metadata": {
        "id": "V4yuImONEKws"
      },
      "outputs": [],
      "source": [
        "model.wv.save(\"/content/model_balzac.bin\")"
      ]
    },
    {
      "cell_type": "code",
      "execution_count": null,
      "metadata": {
        "id": "clnMDVgzEKws"
      },
      "outputs": [],
      "source": [
        "print(model.wv.index_to_key)"
      ]
    },
    {
      "cell_type": "code",
      "execution_count": null,
      "metadata": {
        "id": "Czf2ZjP9EKws"
      },
      "outputs": [],
      "source": [
        "#Paris is to France what London is to what ? model.wv.most_similar(positive=['Londres', 'France'], negative=['Paris'],topn=5)\n",
        "#King is to man what Queen is to what ? model.wv.most_similar(positive=['reine', 'homme'], negative=['roi'],topn=5)\n",
        "model.wv.most_similar(positive=['reine', 'homme'], negative=['roi'],topn=10)"
      ]
    },
    {
      "cell_type": "code",
      "source": [
        "model.wv.most_similar('esprit',topn=10)"
      ],
      "metadata": {
        "id": "M3poyzGldb4H"
      },
      "execution_count": null,
      "outputs": []
    },
    {
      "cell_type": "markdown",
      "metadata": {
        "id": "o0kOz6tGEKws"
      },
      "source": [
        "## Visualization"
      ]
    },
    {
      "cell_type": "code",
      "source": [
        "!wget https://raw.githubusercontent.com/ABC-DH/EnExDi2024/main/materials/3_NLP/stopwords_fr.txt"
      ],
      "metadata": {
        "id": "n5KHJOvscc9M"
      },
      "execution_count": null,
      "outputs": []
    },
    {
      "cell_type": "code",
      "source": [
        "stops = open(\"/content/stopwords_fr.txt\", encoding=\"utf-8\").read().split(\"\\n\")"
      ],
      "metadata": {
        "id": "t5Ca3AjichDf"
      },
      "execution_count": 15,
      "outputs": []
    },
    {
      "cell_type": "code",
      "execution_count": 16,
      "metadata": {
        "id": "4BeysxpwEKwv"
      },
      "outputs": [],
      "source": [
        "from sklearn.manifold import TSNE\n",
        "import plotly.express as px"
      ]
    },
    {
      "cell_type": "code",
      "source": [
        "nb_mots_a_visualiser = 500\n",
        "words = [word for word in model.wv.index_to_key if word not in stops and word not in string.punctuation][:500]\n",
        "word_vectors = np.array([model.wv[word] for word in words])\n",
        "\n",
        "tsne = TSNE(n_components=3, perplexity=30, learning_rate=200,random_state=0)\n",
        "vectors_3d = tsne.fit_transform(word_vectors)\n",
        "\n",
        "import pandas as pd\n",
        "df = pd.DataFrame(vectors_3d, columns=['x', 'y', 'z'])\n",
        "df['word'] = words\n",
        "\n",
        "fig = px.scatter_3d(df, x='x', y='y', z='z', text='word', title=\"3D Visualization for W2V vectors\")\n",
        "fig.show()"
      ],
      "metadata": {
        "colab": {
          "base_uri": "https://localhost:8080/",
          "height": 542
        },
        "id": "5Eks-LQwYJMD",
        "outputId": "91fad7d0-f00d-4941-d46e-c769827422b8"
      },
      "execution_count": 17,
      "outputs": [
        {
          "output_type": "display_data",
          "data": {
            "text/html": [
              "<html>\n",
              "<head><meta charset=\"utf-8\" /></head>\n",
              "<body>\n",
              "    <div>            <script src=\"https://cdnjs.cloudflare.com/ajax/libs/mathjax/2.7.5/MathJax.js?config=TeX-AMS-MML_SVG\"></script><script type=\"text/javascript\">if (window.MathJax && window.MathJax.Hub && window.MathJax.Hub.Config) {window.MathJax.Hub.Config({SVG: {font: \"STIX-Web\"}});}</script>                <script type=\"text/javascript\">window.PlotlyConfig = {MathJaxConfig: 'local'};</script>\n",
              "        <script charset=\"utf-8\" src=\"https://cdn.plot.ly/plotly-2.24.1.min.js\"></script>                <div id=\"9fdb44c0-9620-402d-ae41-7330daf0e8aa\" class=\"plotly-graph-div\" style=\"height:525px; width:100%;\"></div>            <script type=\"text/javascript\">                                    window.PLOTLYENV=window.PLOTLYENV || {};                                    if (document.getElementById(\"9fdb44c0-9620-402d-ae41-7330daf0e8aa\")) {                    Plotly.newPlot(                        \"9fdb44c0-9620-402d-ae41-7330daf0e8aa\",                        [{\"hovertemplate\":\"x=%{x}\\u003cbr\\u003ey=%{y}\\u003cbr\\u003ez=%{z}\\u003cbr\\u003eword=%{text}\\u003cextra\\u003e\\u003c\\u002fextra\\u003e\",\"legendgroup\":\"\",\"marker\":{\"color\":\"#636efa\",\"symbol\":\"circle\"},\"mode\":\"markers+text\",\"name\":\"\",\"scene\":\"scene\",\"showlegend\":false,\"text\":[\"&quot;\",\"de le\",\"\\u00e0 le\",\"femme\",\"homme\",\"...\",\"Mme\",\"savoir\",\"donner\",\"devoir\",\"trouver\",\"Lucien\",\"M.\",\"petit\",\"grand\",\"vie\",\"fille\",\"franc\",\"p\\u00e8re\",\"aimer\",\"r\\u00e9pondre\",\"oeil\",\"moment\",\"jour\",\"jeune\",\"coeur\",\"croire\",\"enfant\",\"demander\",\"amour\",\"main\",\"vieux\",\"reprendre\",\"regarder\",\"vivre\",\"monde\",\"m\\u00e8re\",\"pauvre\",\"entendre\",\"Paris\",\"\\u00e9crier\",\"serrer\",\"t\\u00eate\",\"an\",\"passer\",\"monsieur\",\"ammi\",\"regard\",\"heure\",\"voix\",\"conna\\u00eetre\",\"maison\",\"\\u00e2me\",\"air\",\"jeter\",\"vert\",\"temps\",\"arriver\",\"devenir\",\"affaire\",\"peut-\\u00eatre\",\"eh bien\",\"porte\",\"coup\",\"Hulot\",\"penser\",\"sortir\",\"Mlle\",\"mort\",\"fortune\",\"-m\\u00eame\",\"comprendre\",\"baron\",\"chambre\",\"sentiment\",\"rue\",\"montrer\",\"revenir\",\"prix\",\"esprit\",\"argent\",\"pens\\u00e9e\",\"Birotteau\",\"nom\",\"sourire\",\"qu'\",\"heureux\",\"bonheur\",\"mois\",\"comte\",\"Dieu\",\"!...\",\"lettre\",\"payer\",\"attendre\",\"sentir\",\"porter\",\"entrer\",\"perdre\",\"id\\u00e9e\",\"figure\",\"recevoir\",\"plaisir\",\"or\",\"David\",\"pied\",\"famille\",\"Oui\",\"comtesse\",\"apercevoir\",\"secret\",\"mal\",\"-l\\u00e0\",\"fort\",\"Crevel\",\"mourir\",\"terre\",\"mari\",\"Grandet\",\"n\\u00f4\",\"mani\\u00e8re\",\"d\\u00eener\",\"rire\",\"doute\",\"fils\",\"servir\",\"chercher\",\"passion\",\"quitter\",\"blanc\",\"lever\",\"?...\",\"joli\",\"\\u00e9couter\",\"soir\",\"raison\",\"tomber\",\"marquis\",\"vrai\",\"vieillard\",\"mouvement\",\"silence\",\"bras\",\"malheur\",\"Eug\\u00e8ne\",\"offrir\",\"matin\",\"livre\",\"fr\\u00e8re\",\"riche\",\"milieu\",\"place\",\"journal\",\"mieux\",\"reconna\\u00eetre\",\"garder\",\"fond\",\"rencontrer\",\"po\\u00e8te\",\"\\u00e9crire\",\"int\\u00e9r\\u00eat\",\"Monsieur\",\"droit\",\"jouer\",\"Lisbeth\",\"occuper\",\"larme\",\"feu\",\"salon\",\"long\",\"causer\",\"gros\",\"honneur\",\"cacher\",\"Marneffe\",\"commencer\",\"g\\u00e9n\\u00e9ral\",\"madame\",\"douleur\",\"C\\u00e9sar\",\"profond\",\"tuer\",\"Bargeton\",\"lire\",\"nommer\",\"finir\",\"joie\",\"vendre\",\"Val\\u00e9rie\",\"je\\u00fbne\",\"peine\",\"Verneuil\",\"apprendre\",\"oreille\",\"permettre\",\"lieu\",\"article\",\"crier\",\"arr\\u00eater\",\"ouvrir\",\"gras\",\"papier\",\"nuit\",\"Rapha\\u00ebl\",\"monter\",\"ma\\u00eetresse\",\"Hortense\",\"nature\",\"cour\",\"froid\",\"tirer\",\"mariage\",\"cheveu\",\"voiture\",\"appeler\",\"visage\",\"bient\\u00f4t\",\"partir\",\"ma\\u00eetre\",\"fleur\",\"ancien\",\"pr\\u00e9senter\",\"cousine\",\"cause\",\"sorte\",\"ajouter\",\"France\",\"Rastignac\",\"saisir\",\"deviner\",\"souvenir\",\"manger\",\"marquise\",\"table\",\"noir\",\"oublier\",\"Coralie\",\"front\",\"envoyer\",\"valoir\",\"fin\",\"Popinot\",\"Goriot\",\"geste\",\"besoin\",\"Eug\\u00e9nie\",\"caract\\u00e8re\",\"amant\",\"d\\u00e9sir\",\"manquer\",\"Lousteau\",\"eau\",\"afin de\",\"loi\",\"baronne\",\"doux\",\"agir\",\"inconnu\",\"sale\",\"avenir\",\"chef\",\"mauvais\",\"asseoir\",\"obtenir\",\"gagner\",\"beaut\\u00e9\",\"coucher\",\"lit\",\"expression\",\"S\\u00e9chard\",\"soeur\",\"souffrir\",\"sauver\",\"acheter\",\"\\u00e9prouver\",\"compter\",\"moyen\",\"descendre\",\"travail\",\"ciel\",\"tromper\",\"frapper\",\"esp\\u00e8ce\",\"chagrin\",\"marcher\",\"artiste\",\"Charles\",\"lendemain\",\"Non\",\"placer\",\"lumi\\u00e8re\",\"b\\u00eate\",\"Cointet\",\"expliquer\",\"demain\",\"cheval\",\"\\u00e9chapper\",\"somme\",\"sc\\u00e8ne\",\"ange\",\"ville\",\"baiser\",\"n\\u00e9cessaire\",\"tourner\",\"annoncer\",\"phrase\",\"commerce\",\"parfumeur\",\"corps\",\"c\\u00f4t\\u00e9\",\"politique\",\"tendre\",\"ann\\u00e9e\",\"ressembler\",\"tard\",\"forme\",\"tour\",\"livrer\",\"plaire\",\"partie\",\"succ\\u00e8s\",\"dame\",\"Angoul\\u00eame\",\"apporter\",\"oncle\",\"pays\",\"vertu\",\"conduire\",\"accepter\",\"courir\",\"soleil\",\"soci\\u00e9t\\u00e9\",\"travailler\",\"horrible\",\"d\\u00e9sespoir\",\"pleurer\",\"terrible\",\"noble\",\"bois\",\"\\u00e9lever\",\"couleur\",\"vivement\",\"sou\",\"poss\\u00e9der\",\"\\u00c8ve\",\"embrasser\",\"Claud\",\"Finot\",\"Tillet\",\"province\",\"obliger\",\"bonhomme\",\"esp\\u00e9rance\",\"rentrer\",\"appartenir\",\"produire\",\"gar\\u00e7on\",\"exprimer\",\"bruit\",\"Nanon\",\"Roi\",\"rouge\",\"mis\\u00e8re\",\"compte\",\"rente\",\"ordre\",\"Wenceslas\",\"charger\",\"\\u00e2ge\",\"l\\u00e9ger\",\"juge\",\"fou\",\"changer\",\"Petit\",\"emp\\u00eacher\",\"hasard\",\"cr\\u00e9ature\",\"\\u00e9cu\",\"robe\",\"promettre\",\"retourner\",\"notaire\",\"remettre\",\"essayer\",\"g\\u00e9nie\",\"chemin\",\"position\",\"frais\",\"situation\",\"demeurer\",\"humain\",\"service\",\"esp\\u00e9rer\",\"mar\\u00e9chal\",\"refuser\",\"appartement\",\"\\u00e9v\\u00e9nement\",\"marrir\",\"examiner\",\"accompagner\",\"moindre\",\"juger\",\"ignorer\",\"immense\",\"escalier\",\"co\\u00fbter\",\"aupr\\u00e8s\",\"courage\",\"Mortsauf\",\"pousser\",\"craindre\",\"prier\",\"adieu\",\"faute\",\"toilette\",\"puissance\",\"route\",\"soin\",\"autour\",\"auteur\",\"loin\",\"Vautrin\",\"contempler\",\"second\",\"conversation\",\"achever\",\"public\",\"interrompre\",\"cri\",\"malheureux\",\"po\\u00e9sie\",\"attention\",\"fen\\u00eatre\",\"foi\",\"talent\",\"faillir\",\"quarrer\",\"gloire\",\"\\u00e9pouser\",\"songer\",\"Adeline\",\"aspect\",\"mener\",\"admirer\",\"poser\",\"souffrance\",\"acte\",\"exister\",\"jeu\",\"intelligence\",\"peur\",\"Pillerault\",\"bal\",\"dis\",\"C\\u00e9sarine\",\"billet\",\"avou\\u00e9\",\"tableau\",\"simple\",\"marchand\",\"signe\",\"attacher\",\"Roguin\",\"entier\",\"abb\\u00e9\",\"marier\",\"colonel\",\"former\",\"aussit\\u00f4t\",\"part\",\"surprendre\",\"employer\",\"retrouver\",\"danger\",\"prouver\",\"parce que\",\"chapeau\",\"existence\",\"Chouans\",\"cabinet\",\"soldat\",\"emporter\",\"r\\u00e9p\\u00e9ter\",\"Madame\",\"peau\",\"impossible\",\"parisien\",\"Francine\",\"pardonner\",\"pr\\u00eatre\",\"commandant\",\"forcer\",\"promptement\",\"vue\",\"cousin\",\"maladie\",\"s\\u00fbr\",\"Henriette\",\"dormir\",\"\\u00e9motion\"],\"x\":[-58.39238739013672,-77.63774108886719,-85.96731567382812,49.68605041503906,51.22978973388672,-19.17133331298828,126.64254760742188,36.177207946777344,3.4129750728607178,29.48223304748535,-69.77312469482422,90.2679672241211,131.74119567871094,-77.9719467163086,-26.675090789794922,-16.956153869628906,32.58285140991211,-107.0150375366211,4.666215419769287,-64.5256118774414,-0.8931974768638611,27.250965118408203,91.01997375488281,87.2536849975586,-38.51092529296875,67.61038208007812,-0.19889715313911438,52.55189895629883,-1.8041125535964966,148.16531372070312,13.879256248474121,62.89720153808594,3.6217539310455322,-48.2595329284668,37.61101150512695,31.144147872924805,10.857693672180176,16.05978775024414,-47.48323440551758,-4.724113464355469,12.980002403259277,-115.6982650756836,-8.193726539611816,99.0860595703125,-51.63654327392578,-66.88719177246094,40.095645904541016,45.68693161010742,90.24349975585938,-98.08128356933594,120.8995361328125,35.08573913574219,51.08706283569336,89.03691864013672,-23.19121551513672,-75.55525207519531,73.5374984741211,-67.71137237548828,-132.0473175048828,4.368084907531738,5.235676288604736,-56.22457504272461,20.97880744934082,-73.41201782226562,102.9308853149414,-150.9113006591797,1.2895516157150269,123.45903015136719,-30.337350845336914,23.68433380126953,54.036624908447266,-103.50448608398438,124.45430755615234,55.40446090698242,-36.89752197265625,41.846946716308594,-24.70751953125,85.96974182128906,39.11109161376953,-26.159347534179688,-50.5985221862793,5.269410133361816,65.86257934570312,76.53974151611328,-63.18281173706055,33.46026611328125,-4.707026481628418,-28.80072021484375,94.02593231201172,117.26173400878906,129.34945678710938,-10.54778003692627,-15.716870307922363,12.25802230834961,556.9588012695312,-126.84130096435547,49.05352783203125,-61.265968322753906,-5.899175643920898,-167.9112548828125,63.41365432739258,-36.634517669677734,-97.24148559570312,105.09371948242188,106.70841979980469,18.352298736572266,39.618568420410156,-94.31991577148438,98.15933990478516,-68.46087646484375,-27.683130264282227,20.044200897216797,-47.67630386352539,18.313879013061523,94.92704772949219,-37.588661193847656,66.19548034667969,19.964506149291992,70.01473999023438,-74.0019302368164,-26.553014755249023,97.54401397705078,-20.88650894165039,-61.341495513916016,90.43396759033203,9.074191093444824,-70.55841827392578,29.612545013427734,-47.46648406982422,126.04145050048828,-42.646697998046875,-7.234416961669922,-37.40957260131836,-46.890621185302734,78.85357666015625,2.6676700115203857,-52.636268615722656,14.889838218688965,-39.45576858520508,69.13741302490234,34.34214401245117,3.978243350982666,2.5871078968048096,22.012386322021484,-70.11905670166016,3.43927264213562,71.76187896728516,-85.02923583984375,-31.725299835205078,-25.899404525756836,-82.82255554199219,1.3706634044647217,95.53678131103516,11.765031814575195,-69.17109680175781,-70.54632568359375,-103.92550659179688,-85.87592315673828,70.71389770507812,-60.15707778930664,-39.8758430480957,-46.65447998046875,7.0428147315979,-145.34776306152344,-100.05037689208984,11.414754867553711,-63.98153305053711,7.296047687530518,55.6865119934082,-56.22737503051758,-143.2129364013672,-83.38495635986328,-97.40132141113281,-77.44058990478516,100.05470275878906,54.29069519042969,48.96302032470703,-57.68815994262695,36.8487548828125,65.07190704345703,-78.74334716796875,-57.51778030395508,109.16126251220703,-61.678653717041016,-33.37348556518555,66.3294906616211,41.76481246948242,24.424396514892578,112.33853149414062,-52.150726318359375,-71.58294677734375,82.69062042236328,37.916656494140625,-84.5687255859375,34.86556625366211,12.524646759033203,-25.57111358642578,17.810344696044922,-36.20806884765625,-59.736061096191406,-92.61540985107422,-6.199481964111328,64.73727416992188,54.94175338745117,-49.338218688964844,28.329532623291016,82.34941864013672,25.535552978515625,28.42310905456543,59.35105895996094,-23.74073028564453,104.35983276367188,-14.9786958694458,-112.95358276367188,-37.81754684448242,10.98729419708252,-47.47765350341797,-74.33670043945312,-121.00336456298828,-3.472404718399048,56.10173034667969,-54.55070495605469,112.99492645263672,-26.38260841369629,-15.792881965637207,-12.309767723083496,-9.660633087158203,-83.66792297363281,-8.605170249938965,-82.36181640625,72.55552673339844,-25.82380485534668,96.46089935302734,5.240052223205566,-14.669025421142578,0.9071858525276184,94.36962127685547,2.2030138969421387,-25.25883674621582,-123.57937622070312,-89.65462493896484,56.09353256225586,88.33252716064453,31.378530502319336,-5.515056133270264,55.870277404785156,95.7800064086914,59.65235137939453,-12.756266593933105,37.108009338378906,108.8347396850586,1.403457522392273,65.92871856689453,99.42871856689453,-125.19696807861328,69.38874053955078,-121.6028823852539,39.03144836425781,68.60444641113281,-34.28874588012695,29.283309936523438,-10.616533279418945,-27.428131103515625,38.63125991821289,-14.803230285644531,115.4197998046875,-8.756591796875,4.71487283706665,-41.07278060913086,85.28176879882812,67.07124328613281,-51.24991226196289,-14.903873443603516,10.95908260345459,-112.08100891113281,6.25950288772583,-90.50030517578125,-65.93206787109375,18.803199768066406,15.609935760498047,-77.71510314941406,-7.053060531616211,1.4928195476531982,-56.83818054199219,15.698980331420898,55.799652099609375,47.41661071777344,-40.56594467163086,-36.06477737426758,-40.26240539550781,12.88408374786377,111.56135559082031,125.6243896484375,-103.87576293945312,-114.26571655273438,-19.201223373413086,-110.24267578125,64.16252136230469,-12.00377082824707,63.651123046875,8.73084831237793,10.864276885986328,35.294410705566406,-31.906578063964844,-18.776187896728516,-60.90742492675781,-11.993725776672363,46.16201400756836,69.37787628173828,16.13180160522461,-55.338191986083984,-3.9918599128723145,-31.776134490966797,-114.04507446289062,28.442039489746094,11.695845603942871,96.05365753173828,-77.52896881103516,-24.560302734375,-33.68971252441406,-45.71651077270508,50.759613037109375,-4.043444633483887,-8.868197441101074,11.538728713989258,25.952529907226562,-51.645206451416016,-50.59572982788086,31.08521270751953,-88.94723510742188,22.971851348876953,47.18729782104492,-16.04319190979004,37.42708206176758,33.8783073425293,86.02021026611328,-63.36510467529297,-45.55992126464844,12.722803115844727,-58.01875686645508,-9.299227714538574,-4.281031131744385,-91.59368133544922,-95.45661926269531,91.42225646972656,-3.1482129096984863,91.71709442138672,103.044677734375,26.912742614746094,4.681875228881836,83.06159973144531,58.00820541381836,0.8055905699729919,-44.83500671386719,-105.4581069946289,-30.355712890625,44.55130386352539,-113.7814712524414,36.88673400878906,45.2811393737793,71.4480209350586,-13.90835952758789,41.43189239501953,-6.530281066894531,42.59149169921875,64.70808410644531,105.47337341308594,-5.917823791503906,129.29971313476562,-43.65385055541992,57.19450759887695,-18.342876434326172,-97.78035736083984,140.73867797851562,23.350799560546875,68.0738754272461,69.79878997802734,-90.18080139160156,-37.60014724731445,5.707581043243408,-33.425411224365234,-0.9282612800598145,-9.942434310913086,-64.21348571777344,-24.366193771362305,-7.353982925415039,-7.112262725830078,-75.51964569091797,-12.016231536865234,27.101329803466797,71.70637512207031,-67.83635711669922,27.623464584350586,140.916015625,13.488033294677734,40.50043487548828,69.4654769897461,-24.353723526000977,-72.24752807617188,-43.51616668701172,-125.66458892822266,-108.19512939453125,-100.55422973632812,-23.585987091064453,45.42439270019531,-133.6510009765625,18.048572540283203,-36.96233367919922,93.34674072265625,-73.71005249023438,13.67794132232666,-10.840312004089355,-42.37620544433594,23.04075813293457,28.09186363220215,-39.65519714355469,8.71478271484375,-71.3113021850586,33.203121185302734,-51.6459846496582,9.041629791259766,93.90791320800781,-54.252197265625,83.45751190185547,38.5637092590332,-31.49739646911621,-55.814903259277344,-28.710628509521484,44.56794738769531,41.76309585571289,-38.0654411315918,-81.96195220947266,27.132244110107422,3.5443949699401855,-41.298362731933594,43.03483200073242,-87.17443084716797,-27.704973220825195,-92.36031341552734,-39.994354248046875,-76.7230224609375,23.16031265258789,-39.571353912353516,-67.23033142089844,-33.08168029785156,-59.483680725097656,86.86235046386719,-86.01793670654297,-45.422882080078125,21.062246322631836,-0.6981445550918579,69.03553771972656,85.45064544677734,-140.82505798339844,51.010684967041016,-29.01700210571289,52.63591766357422,42.692283630371094,-49.749908447265625,78.24039459228516,13.539766311645508,-85.80195617675781,63.58686828613281,115.6899185180664,39.13780212402344,-79.85433959960938,135.8116912841797,-41.507293701171875,52.771915435791016,104.41883850097656,-35.03318405151367,-59.8803596496582,-60.41680145263672,-59.0695915222168,-97.93257141113281,29.336652755737305,-36.1370735168457,-7.033246994018555,5.92733097076416,59.55170440673828,20.189069747924805,-82.84284973144531,-9.792609214782715,-47.094505310058594,92.82745361328125,60.18940353393555,1.0739271640777588,77.65007019042969,-118.22679901123047,62.52349090576172,33.672218322753906,67.36041259765625,-8.268165588378906,40.558006286621094,23.577970504760742,-70.39511108398438,-17.798397064208984,37.279964447021484,-29.25780487060547,-15.406116485595703],\"y\":[93.33006286621094,-19.531984329223633,-7.428458213806152,-24.462364196777344,-34.606449127197266,93.48370361328125,34.58814239501953,-16.376192092895508,-15.419326782226562,21.21965980529785,-48.88037872314453,-6.58542013168335,40.87371826171875,44.539764404296875,-96.26844024658203,9.846718788146973,-18.22290802001953,-5.643845558166504,33.973419189453125,15.539528846740723,-23.019365310668945,-55.42832565307617,-23.392683029174805,-44.76433563232422,97.2450942993164,-72.93561553955078,222.48114013671875,8.998040199279785,-14.686659812927246,28.927274703979492,29.70863914489746,-111.2184829711914,-25.66005516052246,27.107450485229492,122.76605224609375,65.23681640625,-15.548993110656738,103.83808898925781,41.984561920166016,88.09227752685547,-44.80039978027344,77.86456298828125,3.8605101108551025,-79.27391815185547,-67.6952133178711,75.53760528564453,23.291175842285156,-62.89817810058594,-47.65829086303711,100.32538604736328,-34.20222854614258,110.55218505859375,-67.71180725097656,-79.57638549804688,-72.4858169555664,-107.02600860595703,-37.97770690917969,-78.93496704101562,-60.873661041259766,-24.71516990661621,73.19757843017578,72.28644561767578,66.36663055419922,60.33979797363281,55.61632537841797,-121.35238647460938,-73.917236328125,59.671180725097656,24.03693199157715,11.614073753356934,-69.4056396484375,-21.029359817504883,16.316246032714844,85.24615478515625,37.203643798828125,126.39132690429688,-44.97002029418945,120.7938232421875,12.849567413330078,-51.86123275756836,49.489463806152344,-46.88371276855469,71.42364501953125,-115.92035675048828,0.058137379586696625,87.31661987304688,-37.37400817871094,-59.65199661254883,-64.02297973632812,4.112003326416016,-61.901268005371094,94.60237884521484,51.56781005859375,50.73575210571289,39.898681640625,-29.93467903137207,-36.51383590698242,-110.24617767333984,57.87125778198242,253.697265625,25.00592803955078,2.4734926223754883,-61.28428649902344,-17.5173397064209,33.186954498291016,26.111148834228516,-7.921211242675781,41.88124084472656,5.825993061065674,-25.080522537231445,-2.9045746326446533,5.189517498016357,120.47266387939453,2.4319424629211426,43.263031005859375,23.336345672607422,-68.47946166992188,55.27313995361328,38.86369323730469,-39.14450454711914,-60.11467742919922,8.239029884338379,52.6317253112793,-51.84904861450195,-113.74885559082031,1.5012987852096558,-45.6226692199707,-49.313995361328125,43.96303176879883,-62.79978942871094,-103.56603240966797,80.14246368408203,-70.28838348388672,28.468664169311523,-10.446089744567871,-4.8789567947387695,-58.36173629760742,-137.5454559326172,-24.54172706604004,26.75945281982422,-116.55413055419922,146.85496520996094,37.08259201049805,-41.153167724609375,-20.609350204467773,-12.254220962524414,0.17004626989364624,-21.356855392456055,38.213069915771484,-52.74562454223633,5.683461666107178,74.43668365478516,-59.86677169799805,47.151187896728516,-17.118053436279297,26.725223541259766,5.182326793670654,-39.613216400146484,-18.74063491821289,-8.463294982910156,95.94208526611328,77.28978729248047,31.07396697998047,-24.99172592163086,65.69961547851562,-77.91249084472656,-3.796881675720215,8.882782936096191,98.8774185180664,-98.07080841064453,23.548572540283203,46.6782341003418,93.81619262695312,-43.987239837646484,38.34535598754883,6.052928924560547,116.55438995361328,84.75476837158203,-89.94368743896484,53.8138427734375,-107.48937225341797,34.17131423950195,22.625465393066406,5.620501518249512,3.0488791465759277,12.829767227172852,-55.622562408447266,41.98677444458008,5.570096492767334,-68.17835998535156,31.554439544677734,-32.35258102416992,-14.544713020324707,98.49828338623047,-70.60401916503906,-49.53761291503906,69.06000518798828,-27.89841651916504,-84.38292694091797,-90.65667724609375,54.746490478515625,50.07497024536133,-25.48250961303711,-9.54632568359375,-87.42681121826172,49.38871383666992,19.108673095703125,-69.90666961669922,104.91839599609375,-76.38874053955078,-22.50989532470703,14.696645736694336,-91.1019515991211,-35.429683685302734,-10.909202575683594,-70.51580810546875,123.9510726928711,-103.44341278076172,-36.03327941894531,-65.79239654541016,-124.6861343383789,-123.51791381835938,-47.251495361328125,12.367938041687012,-91.92279815673828,-33.92609405517578,113.67086029052734,-26.237892150878906,-58.4366340637207,-23.911130905151367,-6.272047996520996,73.85452270507812,24.469148635864258,52.657249450683594,-101.61136627197266,48.16733932495117,-21.038063049316406,-58.31646728515625,-3.324432611465454,20.579387664794922,-70.03034210205078,61.84326934814453,90.32544708251953,-125.88191223144531,9.213776588439941,18.496654510498047,95.53914642333984,-36.15442657470703,-32.85383605957031,-87.9380874633789,-20.730377197265625,-52.05859375,41.6027717590332,50.64044189453125,16.63922691345215,-78.74272155761719,-76.2696533203125,-22.638593673706055,85.6539535522461,30.029027938842773,101.81280517578125,131.3785400390625,-88.98563385009766,-7.0378031730651855,44.21759796142578,29.113718032836914,-100.92024230957031,31.28455352783203,-38.63601303100586,57.729209899902344,24.174869537353516,4.507627010345459,30.244482040405273,33.08863067626953,24.91591453552246,72.67546844482422,22.998554229736328,-84.65914154052734,-74.6415023803711,-41.06357955932617,21.35067367553711,-44.70535659790039,-97.41320037841797,7.9157538414001465,45.77093505859375,-24.647642135620117,17.277568817138672,-113.8865737915039,77.22784423828125,-48.174888610839844,-15.700149536132812,73.77981567382812,43.424503326416016,-28.598222732543945,58.399024963378906,53.76237869262695,-93.65412139892578,71.48527526855469,13.08617115020752,-5.019049167633057,114.8735580444336,-122.52069854736328,33.427730560302734,-123.24420928955078,5.643044948577881,-15.259329795837402,89.60907745361328,66.82121276855469,-72.15563201904297,-88.71768188476562,12.7200927734375,-47.48262405395508,59.67784881591797,-6.83854866027832,-51.80904769897461,-95.6523666381836,-31.059904098510742,-12.702857971191406,127.83407592773438,88.55175018310547,70.84059143066406,-6.5717034339904785,102.44065856933594,5.678262710571289,41.6319465637207,76.98274230957031,-17.388015747070312,-29.35519027709961,-18.752967834472656,-94.21253204345703,-23.77655029296875,11.855438232421875,57.57914733886719,-12.282947540283203,-45.247615814208984,83.45358276367188,-87.87489318847656,-50.495853424072266,-17.92323875427246,-54.30234146118164,-85.19622802734375,-16.099428176879883,17.068437576293945,12.605354309082031,22.614561080932617,-108.80655670166016,47.36729049682617,-36.1487922668457,70.11933135986328,93.5389175415039,-19.623929977416992,33.251914978027344,-32.88132858276367,-114.2189712524414,8.005244255065918,-61.70873260498047,33.48520278930664,-1.0684396028518677,-46.084991455078125,24.48314094543457,118.40200805664062,-116.65742492675781,-28.218984603881836,19.137317657470703,53.907569885253906,54.368350982666016,9.884401321411133,-91.4449462890625,0.26396042108535767,-126.08505249023438,63.625858306884766,-16.73946762084961,46.92991256713867,2.0017545223236084,-109.90387725830078,33.74433135986328,-39.64425277709961,-1.022913932800293,-69.21534729003906,12.232682228088379,-105.87731170654297,104.70690155029297,17.257970809936523,102.59923553466797,-31.544574737548828,-116.77958679199219,78.72067260742188,76.57894134521484,67.70800018310547,-65.65608978271484,-70.67416381835938,73.92064666748047,0.25440049171447754,-5.660489082336426,20.86286163330078,97.21630859375,-97.68927764892578,-12.521132469177246,20.832120895385742,-9.089478492736816,62.72425079345703,-39.638614654541016,-13.358606338500977,-109.91119384765625,83.74564361572266,6.656308174133301,-71.9109878540039,-33.34390640258789,19.560028076171875,43.907920837402344,6.696172714233398,-63.46561813354492,97.2353744506836,37.4180908203125,74.45561218261719,24.58543586730957,89.5676040649414,-82.41138458251953,-85.82575988769531,47.268218994140625,-59.7166862487793,73.27555847167969,22.02985954284668,45.918827056884766,-120.61266326904297,2.129998207092285,26.885520935058594,28.730932235717773,-59.15015411376953,48.926578521728516,0.09299248456954956,-70.30535125732422,53.51063537597656,-135.3095245361328,-38.081336975097656,32.65404510498047,39.287574768066406,33.194679260253906,-68.3651123046875,-31.033729553222656,61.376956939697266,-88.19017791748047,-31.1112003326416,0.5297636985778809,-71.11026763916016,84.17829895019531,52.36332321166992,25.10470199584961,84.15807342529297,0.5039405226707458,25.719852447509766,60.96062469482422,19.085969924926758,-1.2069752216339111,40.137115478515625,55.27849197387695,90.51018524169922,-94.32650756835938,-29.549856185913086,62.69760513305664,-129.18218994140625,-52.76700210571289,-135.83998107910156,-42.8434944152832,132.59768676757812,-70.63273620605469,-2.0094330310821533,-38.277957916259766,73.12165069580078,-86.11068725585938,-24.110551834106445,57.131866455078125,-36.2828483581543,-52.68342208862305,-2.0426084995269775,69.17452239990234,-82.71297454833984,16.93422508239746,124.81339263916016,107.9361343383789,119.93276977539062,26.88418197631836,-6.589982032775879,95.51288604736328,46.692081451416016,-39.62905502319336,72.2825927734375,-8.674725532531738,28.423608779907227,7.926892280578613,109.78714752197266,-18.1335391998291,-72.95378112792969,-84.35069274902344,20.049468994140625,-39.439571380615234,-36.66831588745117,0.19767265021800995,56.072486877441406,-14.421806335449219],\"z\":[-28.353130340576172,-1.657830834388733,3.8768765926361084,80.24005126953125,100.40695190429688,-52.88681411743164,-9.610398292541504,-37.55964279174805,-105.68138885498047,-46.268795013427734,-87.53453063964844,41.60190963745117,-28.711984634399414,25.090330123901367,2.704951047897339,89.57308197021484,87.0121078491211,31.946956634521484,75.56747436523438,14.58466911315918,-54.57453536987305,118.64141082763672,-6.190091609954834,-15.923460960388184,11.194742202758789,83.7790756225586,202.420166015625,17.14210319519043,-73.33243560791016,15.736215591430664,136.5806884765625,-49.16912078857422,-39.103614807128906,-78.88798522949219,-50.52928924560547,-29.168025970458984,96.7546615600586,-53.60411071777344,-42.34951400756836,-6.065212726593018,-48.636837005615234,-52.656063079833984,133.00750732421875,10.61148738861084,-65.44190216064453,-48.57720947265625,8.458206176757812,121.63191223144531,-36.63333511352539,0.5861883163452148,-0.9169184565544128,-13.159672737121582,79.92459869384766,-67.53565216064453,-126.23727416992188,-81.59515380859375,-6.712498188018799,-56.615203857421875,-9.248381614685059,132.04434204101562,876.2454833984375,-14.55760383605957,16.484642028808594,96.56414031982422,90.04398345947266,-126.14510345458984,-91.61979675292969,22.541004180908203,4.508875370025635,-10.136675834655762,-63.814186096191406,-42.51747131347656,28.160282135009766,-33.41039276123047,-145.01052856445312,-0.8993977904319763,-108.18256378173828,-28.356964111328125,-93.76453399658203,31.178247451782227,15.640778541564941,81.79224395751953,87.43515014648438,32.049644470214844,-133.0579833984375,-78.8674545288086,-12.701154708862305,58.17295837402344,-5.986454963684082,4.696541786193848,-14.135455131530762,-67.74781036376953,15.570599555969238,-92.09211730957031,-178.7142791748047,-63.3886833190918,-96.46487426757812,-35.29240417480469,191.4397735595703,-10.210954666137695,-122.40034484863281,-112.06936645507812,-29.119022369384766,101.26178741455078,49.18086624145508,31.244272232055664,-8.374703407287598,0.1801312118768692,13.552968978881836,-74.3603515625,18.77771759033203,109.64820861816406,-13.714762687683105,58.329383850097656,74.55020904541016,-11.366837501525879,21.98580551147461,72.43856048583984,106.23654174804688,16.26854705810547,89.52047729492188,-21.341289520263672,-37.00701904296875,73.01132202148438,14.091160774230957,-90.11734008789062,-20.921546936035156,71.61471557617188,-113.55968475341797,33.61555099487305,-79.25817108154297,-56.246788024902344,-8.45758056640625,-51.960350036621094,-23.165224075317383,74.8835220336914,-40.613712310791016,-21.240585327148438,10.136338233947754,39.19684982299805,1.6525408029556274,-29.737022399902344,129.7700653076172,-136.01217651367188,86.49899291992188,-127.76365661621094,-31.658672332763672,40.46709060668945,36.561885833740234,-9.500985145568848,70.37569427490234,40.3042106628418,39.19062042236328,-50.57581329345703,-54.86138916015625,-57.122314453125,82.9389877319336,-85.48210906982422,36.54354476928711,-26.98822593688965,69.4975814819336,-40.61256408691406,3.7207231521606445,-20.053142547607422,-13.637505531311035,-61.376251220703125,124.96723175048828,36.680938720703125,-16.315582275390625,13.839719772338867,-11.522056579589844,40.615692138671875,53.75239562988281,-53.32322692871094,99.16228485107422,-60.74734115600586,50.31739807128906,-58.79459762573242,93.03855895996094,88.03407287597656,37.802433013916016,-13.62751293182373,108.57854461669922,-32.8124885559082,-62.38998031616211,-70.17649841308594,42.01447677612305,-104.8770980834961,53.47167205810547,23.486101150512695,87.1643295288086,87.24803924560547,-78.5045394897461,-15.826300621032715,-52.60597229003906,12.910207748413086,20.881502151489258,-62.58362579345703,-70.01080322265625,-91.48164367675781,-52.71354293823242,-6.979763507843018,-26.611425399780273,60.37171173095703,-40.53866195678711,56.46318435668945,73.8161849975586,67.34175109863281,11.254904747009277,-17.383745193481445,-101.5320816040039,-55.290950775146484,112.87812805175781,60.79948043823242,-57.03833770751953,104.20401763916016,46.410213470458984,-15.66347599029541,31.830978393554688,56.5543327331543,-41.587154388427734,-60.650779724121094,75.27171325683594,38.1666145324707,37.05453872680664,-40.59339141845703,-24.163728713989258,76.98336791992188,-72.2691650390625,-41.839237213134766,-97.14762115478516,-100.17768096923828,18.31233024597168,36.23068618774414,91.38931274414062,341.9735412597656,55.75358581542969,115.40554809570312,-129.6619415283203,-58.57233810424805,46.92784118652344,68.8884506225586,73.45394897460938,17.184724807739258,-15.938716888427734,79.09532928466797,18.67534828186035,65.73249816894531,81.16220092773438,-89.622314453125,35.47524642944336,41.948570251464844,-20.367116928100586,-43.17694854736328,54.89661407470703,-33.51060485839844,25.93618392944336,52.7499885559082,-11.35081958770752,91.07423400878906,89.53244018554688,-71.4427719116211,-99.07740783691406,-120.52003479003906,-104.52019500732422,-84.3293685913086,-96.17932891845703,43.03861999511719,98.72832489013672,112.03992462158203,9.433239936828613,0.6109305620193481,-65.29778289794922,-105.8064193725586,-24.889760971069336,-108.45248413085938,114.65837860107422,-34.20930480957031,40.26557159423828,43.79105758666992,-12.163627624511719,-83.38441467285156,27.357254028320312,96.44298553466797,-140.51095581054688,36.755401611328125,64.57039642333984,53.869056701660156,-16.94015121459961,-81.12615203857422,40.59288787841797,-8.393951416015625,56.506248474121094,-22.012874603271484,53.139949798583984,55.07890319824219,-16.9488582611084,-79.2308120727539,60.007625579833984,10.533828735351562,-3.831132650375366,-66.93933868408203,-65.25723266601562,-77.697509765625,-88.90129852294922,61.73921585083008,103.46883392333984,89.72236633300781,52.40045166015625,-10.058277130126953,44.53099822998047,-114.44219970703125,115.05879211425781,-102.51705932617188,-81.19950103759766,63.753082275390625,-100.25679016113281,-106.05105590820312,15.371478080749512,47.67304611206055,47.35585021972656,97.94619750976562,1.916149616241455,-114.04761505126953,95.2436752319336,-9.536340713500977,30.180879592895508,-120.22563934326172,-107.16992950439453,-48.79405975341797,26.73679542541504,-20.655942916870117,-82.07825469970703,136.220947265625,10.405235290527344,-44.8559684753418,46.99651336669922,10.963723182678223,-6.151235103607178,-115.0719985961914,71.68955993652344,19.07637596130371,42.001182556152344,-57.14683151245117,50.63337326049805,-66.201416015625,37.07963562011719,35.468135833740234,102.994384765625,-22.13741683959961,-55.32631301879883,50.47004699707031,66.62910461425781,-28.712514877319336,-94.44096374511719,-55.68891906738281,31.97109603881836,-11.958415985107422,-25.866472244262695,97.23571014404297,44.98881530761719,77.62886047363281,1.5142877101898193,13.540148735046387,-101.70765686035156,-46.329036712646484,76.30618286132812,-34.400264739990234,-35.60445022583008,16.045204162597656,35.39410400390625,-10.47097396850586,-86.12911224365234,64.39994812011719,-41.40771484375,-68.5802001953125,22.78746223449707,36.202178955078125,117.43885040283203,-61.59273147583008,-61.7527961730957,47.51401138305664,-132.58880615234375,31.669029235839844,36.72466278076172,-16.46430206298828,70.14171600341797,21.748409271240234,81.16813659667969,-114.58704376220703,-101.3199462890625,55.35099411010742,-56.75296401977539,23.714275360107422,-80.56460571289062,-26.259883880615234,1.0796785354614258,102.09196472167969,-85.3589859008789,-86.95299530029297,15.678145408630371,0.222669780254364,-64.54977416992188,11.616911888122559,13.305026054382324,-46.453102111816406,-31.038856506347656,63.3920783996582,114.97889709472656,-31.538305282592773,-35.79976272583008,-37.1319465637207,-74.74555206298828,-20.30914306640625,54.227725982666016,126.01079559326172,26.85005760192871,82.34823608398438,-30.009523391723633,64.92487335205078,-14.820489883422852,62.58491134643555,-95.78015899658203,-101.12627410888672,71.22127532958984,-31.777074813842773,54.82440185546875,-40.22849655151367,-0.44178086519241333,-4.982322692871094,69.54704284667969,89.47418975830078,21.540843963623047,47.72939682006836,40.45286560058594,-39.96867752075195,72.78636169433594,72.65579986572266,8.646486282348633,-33.300621032714844,-2.883392572402954,13.95556926727295,-137.7569122314453,-70.63229370117188,-93.91669464111328,-106.8797378540039,-63.70844650268555,-120.8313980102539,85.78740692138672,13.282082557678223,-29.53900718688965,52.8325080871582,-28.71095085144043,20.6938419342041,77.37327575683594,1.8353296518325806,44.48637771606445,48.40657424926758,-7.281681537628174,15.9321928024292,13.169695854187012,-117.09441375732422,1.0967023372650146,-59.71886444091797,35.48028564453125,-2.9213314056396484,-1.7270797491073608,-63.58841323852539,122.79940795898438,-31.858963012695312,130.41282653808594,-84.61427307128906,-98.47744750976562,52.49095153808594,-31.070463180541992,-62.48326110839844,104.46134185791016,101.9970474243164,71.63804626464844,-33.73532485961914,61.834259033203125,-42.76416778564453,-48.41978454589844,-45.818092346191406,-7.018290996551514,-57.35091781616211,-25.615785598754883,79.31626892089844,24.3864803314209,44.628360748291016,69.30553436279297,-56.93244934082031,7.706890106201172,17.432891845703125,78.7936782836914,120.42742919921875,3.4237818717956543,39.57679748535156,-68.4135971069336,56.22309112548828],\"type\":\"scatter3d\"}],                        {\"template\":{\"data\":{\"histogram2dcontour\":[{\"type\":\"histogram2dcontour\",\"colorbar\":{\"outlinewidth\":0,\"ticks\":\"\"},\"colorscale\":[[0.0,\"#0d0887\"],[0.1111111111111111,\"#46039f\"],[0.2222222222222222,\"#7201a8\"],[0.3333333333333333,\"#9c179e\"],[0.4444444444444444,\"#bd3786\"],[0.5555555555555556,\"#d8576b\"],[0.6666666666666666,\"#ed7953\"],[0.7777777777777778,\"#fb9f3a\"],[0.8888888888888888,\"#fdca26\"],[1.0,\"#f0f921\"]]}],\"choropleth\":[{\"type\":\"choropleth\",\"colorbar\":{\"outlinewidth\":0,\"ticks\":\"\"}}],\"histogram2d\":[{\"type\":\"histogram2d\",\"colorbar\":{\"outlinewidth\":0,\"ticks\":\"\"},\"colorscale\":[[0.0,\"#0d0887\"],[0.1111111111111111,\"#46039f\"],[0.2222222222222222,\"#7201a8\"],[0.3333333333333333,\"#9c179e\"],[0.4444444444444444,\"#bd3786\"],[0.5555555555555556,\"#d8576b\"],[0.6666666666666666,\"#ed7953\"],[0.7777777777777778,\"#fb9f3a\"],[0.8888888888888888,\"#fdca26\"],[1.0,\"#f0f921\"]]}],\"heatmap\":[{\"type\":\"heatmap\",\"colorbar\":{\"outlinewidth\":0,\"ticks\":\"\"},\"colorscale\":[[0.0,\"#0d0887\"],[0.1111111111111111,\"#46039f\"],[0.2222222222222222,\"#7201a8\"],[0.3333333333333333,\"#9c179e\"],[0.4444444444444444,\"#bd3786\"],[0.5555555555555556,\"#d8576b\"],[0.6666666666666666,\"#ed7953\"],[0.7777777777777778,\"#fb9f3a\"],[0.8888888888888888,\"#fdca26\"],[1.0,\"#f0f921\"]]}],\"heatmapgl\":[{\"type\":\"heatmapgl\",\"colorbar\":{\"outlinewidth\":0,\"ticks\":\"\"},\"colorscale\":[[0.0,\"#0d0887\"],[0.1111111111111111,\"#46039f\"],[0.2222222222222222,\"#7201a8\"],[0.3333333333333333,\"#9c179e\"],[0.4444444444444444,\"#bd3786\"],[0.5555555555555556,\"#d8576b\"],[0.6666666666666666,\"#ed7953\"],[0.7777777777777778,\"#fb9f3a\"],[0.8888888888888888,\"#fdca26\"],[1.0,\"#f0f921\"]]}],\"contourcarpet\":[{\"type\":\"contourcarpet\",\"colorbar\":{\"outlinewidth\":0,\"ticks\":\"\"}}],\"contour\":[{\"type\":\"contour\",\"colorbar\":{\"outlinewidth\":0,\"ticks\":\"\"},\"colorscale\":[[0.0,\"#0d0887\"],[0.1111111111111111,\"#46039f\"],[0.2222222222222222,\"#7201a8\"],[0.3333333333333333,\"#9c179e\"],[0.4444444444444444,\"#bd3786\"],[0.5555555555555556,\"#d8576b\"],[0.6666666666666666,\"#ed7953\"],[0.7777777777777778,\"#fb9f3a\"],[0.8888888888888888,\"#fdca26\"],[1.0,\"#f0f921\"]]}],\"surface\":[{\"type\":\"surface\",\"colorbar\":{\"outlinewidth\":0,\"ticks\":\"\"},\"colorscale\":[[0.0,\"#0d0887\"],[0.1111111111111111,\"#46039f\"],[0.2222222222222222,\"#7201a8\"],[0.3333333333333333,\"#9c179e\"],[0.4444444444444444,\"#bd3786\"],[0.5555555555555556,\"#d8576b\"],[0.6666666666666666,\"#ed7953\"],[0.7777777777777778,\"#fb9f3a\"],[0.8888888888888888,\"#fdca26\"],[1.0,\"#f0f921\"]]}],\"mesh3d\":[{\"type\":\"mesh3d\",\"colorbar\":{\"outlinewidth\":0,\"ticks\":\"\"}}],\"scatter\":[{\"fillpattern\":{\"fillmode\":\"overlay\",\"size\":10,\"solidity\":0.2},\"type\":\"scatter\"}],\"parcoords\":[{\"type\":\"parcoords\",\"line\":{\"colorbar\":{\"outlinewidth\":0,\"ticks\":\"\"}}}],\"scatterpolargl\":[{\"type\":\"scatterpolargl\",\"marker\":{\"colorbar\":{\"outlinewidth\":0,\"ticks\":\"\"}}}],\"bar\":[{\"error_x\":{\"color\":\"#2a3f5f\"},\"error_y\":{\"color\":\"#2a3f5f\"},\"marker\":{\"line\":{\"color\":\"#E5ECF6\",\"width\":0.5},\"pattern\":{\"fillmode\":\"overlay\",\"size\":10,\"solidity\":0.2}},\"type\":\"bar\"}],\"scattergeo\":[{\"type\":\"scattergeo\",\"marker\":{\"colorbar\":{\"outlinewidth\":0,\"ticks\":\"\"}}}],\"scatterpolar\":[{\"type\":\"scatterpolar\",\"marker\":{\"colorbar\":{\"outlinewidth\":0,\"ticks\":\"\"}}}],\"histogram\":[{\"marker\":{\"pattern\":{\"fillmode\":\"overlay\",\"size\":10,\"solidity\":0.2}},\"type\":\"histogram\"}],\"scattergl\":[{\"type\":\"scattergl\",\"marker\":{\"colorbar\":{\"outlinewidth\":0,\"ticks\":\"\"}}}],\"scatter3d\":[{\"type\":\"scatter3d\",\"line\":{\"colorbar\":{\"outlinewidth\":0,\"ticks\":\"\"}},\"marker\":{\"colorbar\":{\"outlinewidth\":0,\"ticks\":\"\"}}}],\"scattermapbox\":[{\"type\":\"scattermapbox\",\"marker\":{\"colorbar\":{\"outlinewidth\":0,\"ticks\":\"\"}}}],\"scatterternary\":[{\"type\":\"scatterternary\",\"marker\":{\"colorbar\":{\"outlinewidth\":0,\"ticks\":\"\"}}}],\"scattercarpet\":[{\"type\":\"scattercarpet\",\"marker\":{\"colorbar\":{\"outlinewidth\":0,\"ticks\":\"\"}}}],\"carpet\":[{\"aaxis\":{\"endlinecolor\":\"#2a3f5f\",\"gridcolor\":\"white\",\"linecolor\":\"white\",\"minorgridcolor\":\"white\",\"startlinecolor\":\"#2a3f5f\"},\"baxis\":{\"endlinecolor\":\"#2a3f5f\",\"gridcolor\":\"white\",\"linecolor\":\"white\",\"minorgridcolor\":\"white\",\"startlinecolor\":\"#2a3f5f\"},\"type\":\"carpet\"}],\"table\":[{\"cells\":{\"fill\":{\"color\":\"#EBF0F8\"},\"line\":{\"color\":\"white\"}},\"header\":{\"fill\":{\"color\":\"#C8D4E3\"},\"line\":{\"color\":\"white\"}},\"type\":\"table\"}],\"barpolar\":[{\"marker\":{\"line\":{\"color\":\"#E5ECF6\",\"width\":0.5},\"pattern\":{\"fillmode\":\"overlay\",\"size\":10,\"solidity\":0.2}},\"type\":\"barpolar\"}],\"pie\":[{\"automargin\":true,\"type\":\"pie\"}]},\"layout\":{\"autotypenumbers\":\"strict\",\"colorway\":[\"#636efa\",\"#EF553B\",\"#00cc96\",\"#ab63fa\",\"#FFA15A\",\"#19d3f3\",\"#FF6692\",\"#B6E880\",\"#FF97FF\",\"#FECB52\"],\"font\":{\"color\":\"#2a3f5f\"},\"hovermode\":\"closest\",\"hoverlabel\":{\"align\":\"left\"},\"paper_bgcolor\":\"white\",\"plot_bgcolor\":\"#E5ECF6\",\"polar\":{\"bgcolor\":\"#E5ECF6\",\"angularaxis\":{\"gridcolor\":\"white\",\"linecolor\":\"white\",\"ticks\":\"\"},\"radialaxis\":{\"gridcolor\":\"white\",\"linecolor\":\"white\",\"ticks\":\"\"}},\"ternary\":{\"bgcolor\":\"#E5ECF6\",\"aaxis\":{\"gridcolor\":\"white\",\"linecolor\":\"white\",\"ticks\":\"\"},\"baxis\":{\"gridcolor\":\"white\",\"linecolor\":\"white\",\"ticks\":\"\"},\"caxis\":{\"gridcolor\":\"white\",\"linecolor\":\"white\",\"ticks\":\"\"}},\"coloraxis\":{\"colorbar\":{\"outlinewidth\":0,\"ticks\":\"\"}},\"colorscale\":{\"sequential\":[[0.0,\"#0d0887\"],[0.1111111111111111,\"#46039f\"],[0.2222222222222222,\"#7201a8\"],[0.3333333333333333,\"#9c179e\"],[0.4444444444444444,\"#bd3786\"],[0.5555555555555556,\"#d8576b\"],[0.6666666666666666,\"#ed7953\"],[0.7777777777777778,\"#fb9f3a\"],[0.8888888888888888,\"#fdca26\"],[1.0,\"#f0f921\"]],\"sequentialminus\":[[0.0,\"#0d0887\"],[0.1111111111111111,\"#46039f\"],[0.2222222222222222,\"#7201a8\"],[0.3333333333333333,\"#9c179e\"],[0.4444444444444444,\"#bd3786\"],[0.5555555555555556,\"#d8576b\"],[0.6666666666666666,\"#ed7953\"],[0.7777777777777778,\"#fb9f3a\"],[0.8888888888888888,\"#fdca26\"],[1.0,\"#f0f921\"]],\"diverging\":[[0,\"#8e0152\"],[0.1,\"#c51b7d\"],[0.2,\"#de77ae\"],[0.3,\"#f1b6da\"],[0.4,\"#fde0ef\"],[0.5,\"#f7f7f7\"],[0.6,\"#e6f5d0\"],[0.7,\"#b8e186\"],[0.8,\"#7fbc41\"],[0.9,\"#4d9221\"],[1,\"#276419\"]]},\"xaxis\":{\"gridcolor\":\"white\",\"linecolor\":\"white\",\"ticks\":\"\",\"title\":{\"standoff\":15},\"zerolinecolor\":\"white\",\"automargin\":true,\"zerolinewidth\":2},\"yaxis\":{\"gridcolor\":\"white\",\"linecolor\":\"white\",\"ticks\":\"\",\"title\":{\"standoff\":15},\"zerolinecolor\":\"white\",\"automargin\":true,\"zerolinewidth\":2},\"scene\":{\"xaxis\":{\"backgroundcolor\":\"#E5ECF6\",\"gridcolor\":\"white\",\"linecolor\":\"white\",\"showbackground\":true,\"ticks\":\"\",\"zerolinecolor\":\"white\",\"gridwidth\":2},\"yaxis\":{\"backgroundcolor\":\"#E5ECF6\",\"gridcolor\":\"white\",\"linecolor\":\"white\",\"showbackground\":true,\"ticks\":\"\",\"zerolinecolor\":\"white\",\"gridwidth\":2},\"zaxis\":{\"backgroundcolor\":\"#E5ECF6\",\"gridcolor\":\"white\",\"linecolor\":\"white\",\"showbackground\":true,\"ticks\":\"\",\"zerolinecolor\":\"white\",\"gridwidth\":2}},\"shapedefaults\":{\"line\":{\"color\":\"#2a3f5f\"}},\"annotationdefaults\":{\"arrowcolor\":\"#2a3f5f\",\"arrowhead\":0,\"arrowwidth\":1},\"geo\":{\"bgcolor\":\"white\",\"landcolor\":\"#E5ECF6\",\"subunitcolor\":\"white\",\"showland\":true,\"showlakes\":true,\"lakecolor\":\"white\"},\"title\":{\"x\":0.05},\"mapbox\":{\"style\":\"light\"}}},\"scene\":{\"domain\":{\"x\":[0.0,1.0],\"y\":[0.0,1.0]},\"xaxis\":{\"title\":{\"text\":\"x\"}},\"yaxis\":{\"title\":{\"text\":\"y\"}},\"zaxis\":{\"title\":{\"text\":\"z\"}}},\"legend\":{\"tracegroupgap\":0},\"title\":{\"text\":\"3D Visualization for W2V vectors\"}},                        {\"responsive\": true}                    ).then(function(){\n",
              "                            \n",
              "var gd = document.getElementById('9fdb44c0-9620-402d-ae41-7330daf0e8aa');\n",
              "var x = new MutationObserver(function (mutations, observer) {{\n",
              "        var display = window.getComputedStyle(gd).display;\n",
              "        if (!display || display === 'none') {{\n",
              "            console.log([gd, 'removed!']);\n",
              "            Plotly.purge(gd);\n",
              "            observer.disconnect();\n",
              "        }}\n",
              "}});\n",
              "\n",
              "// Listen for the removal of the full notebook cells\n",
              "var notebookContainer = gd.closest('#notebook-container');\n",
              "if (notebookContainer) {{\n",
              "    x.observe(notebookContainer, {childList: true});\n",
              "}}\n",
              "\n",
              "// Listen for the clearing of the current output cell\n",
              "var outputEl = gd.closest('.output');\n",
              "if (outputEl) {{\n",
              "    x.observe(outputEl, {childList: true});\n",
              "}}\n",
              "\n",
              "                        })                };                            </script>        </div>\n",
              "</body>\n",
              "</html>"
            ]
          },
          "metadata": {}
        }
      ]
    },
    {
      "cell_type": "code",
      "source": [
        "fig.write_html(\"/content/word2vec_visualization.html\")"
      ],
      "metadata": {
        "id": "Y45a-rGyYSbe"
      },
      "execution_count": null,
      "outputs": []
    },
    {
      "cell_type": "markdown",
      "source": [
        "## Visualization with Tensorflow\n",
        "You can also get a much clearer visualization using the [online tensorflow visualizer](https://projector.tensorflow.org/). After this next cell, you'll get two files, one containing the vectors, the other their labels."
      ],
      "metadata": {
        "id": "dS_L_ZjGvDAA"
      }
    },
    {
      "cell_type": "code",
      "source": [
        "with open(\"vecteurs.tsv\", 'w') as file_vectors, open(\"metadonnees.tsv\", 'w') as file_metadata:\n",
        "    for word in model.wv.index_to_key:\n",
        "        file_vectors.write('\\t'.join([str(x) for x in model.wv[word]]) + \"\\n\")\n",
        "        file_metadata.write(word + \"\\n\")"
      ],
      "metadata": {
        "id": "IRRnV7TbVlI0"
      },
      "execution_count": 13,
      "outputs": []
    }
  ],
  "metadata": {
    "kernelspec": {
      "display_name": "Python 3",
      "language": "python",
      "name": "python3"
    },
    "language_info": {
      "codemirror_mode": {
        "name": "ipython",
        "version": 3
      },
      "file_extension": ".py",
      "mimetype": "text/x-python",
      "name": "python",
      "nbconvert_exporter": "python",
      "pygments_lexer": "ipython3",
      "version": "3.7.6"
    },
    "colab": {
      "provenance": []
    }
  },
  "nbformat": 4,
  "nbformat_minor": 0
}